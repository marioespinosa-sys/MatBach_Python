{
  "nbformat": 4,
  "nbformat_minor": 0,
  "metadata": {
    "colab": {
      "provenance": [],
      "authorship_tag": "ABX9TyOxlKCRhC8J/m6UmhS/nnlu",
      "include_colab_link": true
    },
    "kernelspec": {
      "name": "python3",
      "display_name": "Python 3"
    },
    "language_info": {
      "name": "python"
    }
  },
  "cells": [
    {
      "cell_type": "markdown",
      "metadata": {
        "id": "view-in-github",
        "colab_type": "text"
      },
      "source": [
        "<a href=\"https://colab.research.google.com/github/marioespinosa-sys/MatBach_Python/blob/main/Tarea_Jueves_Conjuntos.ipynb\" target=\"_parent\"><img src=\"https://colab.research.google.com/assets/colab-badge.svg\" alt=\"Open In Colab\"/></a>"
      ]
    },
    {
      "cell_type": "code",
      "execution_count": null,
      "metadata": {
        "id": "GGAEUJQfjnHt"
      },
      "outputs": [],
      "source": []
    },
    {
      "cell_type": "markdown",
      "source": [
        "Tarea: equivalencia de módulo 5 para valores de -99 a 99"
      ],
      "metadata": {
        "id": "dAyjBUBAjoAD"
      }
    },
    {
      "cell_type": "code",
      "source": [
        "ClaseEquiv0 = set()\n",
        "ClaseEquiv1 = set()\n",
        "ClaseEquiv2 = set()\n",
        "ClaseEquiv3 = set()\n",
        "ClaseEquiv4 = set()\n",
        "\n",
        "\n",
        "for i in range(100):\n",
        "    if i % 5 == 0:\n",
        "        ClaseEquiv0.add(i)\n",
        "        ClaseEquiv0.add(-i)\n",
        "    elif i % 5 == 1:\n",
        "        ClaseEquiv1.add(i)\n",
        "        ClaseEquiv1.add(-i)\n",
        "    elif i % 5 == 2:\n",
        "        ClaseEquiv2.add(i)\n",
        "        ClaseEquiv2.add(-i)\n",
        "    elif i % 5 == 3:\n",
        "        ClaseEquiv3.add(i)\n",
        "        ClaseEquiv3.add(-i)\n",
        "    else:\n",
        "        ClaseEquiv4.add(i)\n",
        "        ClaseEquiv4.add(-i)\n",
        "\n",
        "print(\"Clase [0] = \", sorted(ClaseEquiv0))\n",
        "print(\"Clase [1] = \", sorted(ClaseEquiv1))\n",
        "print(\"Clase [2] = \", sorted(ClaseEquiv2))\n",
        "print(\"Clase [3] = \", sorted(ClaseEquiv3))\n",
        "print(\"Clase [4] = \", sorted(ClaseEquiv4))\n",
        "\n",
        "print(\"La intersección de los cinco conjuntos es: \", sorted(ClaseEquiv0 & ClaseEquiv1 & ClaseEquiv2 & ClaseEquiv3 & ClaseEquiv4))\n",
        "\n",
        "print(\"La unión de los cinco conjuntos es: \", sorted(ClaseEquiv0 | ClaseEquiv1 | ClaseEquiv2 | ClaseEquiv3 | ClaseEquiv4))"
      ],
      "metadata": {
        "colab": {
          "base_uri": "https://localhost:8080/"
        },
        "id": "-47yp2J9jqL1",
        "outputId": "0f3bccb1-475c-4acc-ed60-24b272d558df"
      },
      "execution_count": null,
      "outputs": [
        {
          "output_type": "stream",
          "name": "stdout",
          "text": [
            "Clase [0] =  [-95, -90, -85, -80, -75, -70, -65, -60, -55, -50, -45, -40, -35, -30, -25, -20, -15, -10, -5, 0, 5, 10, 15, 20, 25, 30, 35, 40, 45, 50, 55, 60, 65, 70, 75, 80, 85, 90, 95]\n",
            "Clase [1] =  [-96, -91, -86, -81, -76, -71, -66, -61, -56, -51, -46, -41, -36, -31, -26, -21, -16, -11, -6, -1, 1, 6, 11, 16, 21, 26, 31, 36, 41, 46, 51, 56, 61, 66, 71, 76, 81, 86, 91, 96]\n",
            "Clase [2] =  [-97, -92, -87, -82, -77, -72, -67, -62, -57, -52, -47, -42, -37, -32, -27, -22, -17, -12, -7, -2, 2, 7, 12, 17, 22, 27, 32, 37, 42, 47, 52, 57, 62, 67, 72, 77, 82, 87, 92, 97]\n",
            "Clase [3] =  [-98, -93, -88, -83, -78, -73, -68, -63, -58, -53, -48, -43, -38, -33, -28, -23, -18, -13, -8, -3, 3, 8, 13, 18, 23, 28, 33, 38, 43, 48, 53, 58, 63, 68, 73, 78, 83, 88, 93, 98]\n",
            "Clase [4] =  [-99, -94, -89, -84, -79, -74, -69, -64, -59, -54, -49, -44, -39, -34, -29, -24, -19, -14, -9, -4, 4, 9, 14, 19, 24, 29, 34, 39, 44, 49, 54, 59, 64, 69, 74, 79, 84, 89, 94, 99]\n",
            "La intersección de los cinco conjuntos es:  []\n",
            "La unión de los cinco conjuntos es:  [-99, -98, -97, -96, -95, -94, -93, -92, -91, -90, -89, -88, -87, -86, -85, -84, -83, -82, -81, -80, -79, -78, -77, -76, -75, -74, -73, -72, -71, -70, -69, -68, -67, -66, -65, -64, -63, -62, -61, -60, -59, -58, -57, -56, -55, -54, -53, -52, -51, -50, -49, -48, -47, -46, -45, -44, -43, -42, -41, -40, -39, -38, -37, -36, -35, -34, -33, -32, -31, -30, -29, -28, -27, -26, -25, -24, -23, -22, -21, -20, -19, -18, -17, -16, -15, -14, -13, -12, -11, -10, -9, -8, -7, -6, -5, -4, -3, -2, -1, 0, 1, 2, 3, 4, 5, 6, 7, 8, 9, 10, 11, 12, 13, 14, 15, 16, 17, 18, 19, 20, 21, 22, 23, 24, 25, 26, 27, 28, 29, 30, 31, 32, 33, 34, 35, 36, 37, 38, 39, 40, 41, 42, 43, 44, 45, 46, 47, 48, 49, 50, 51, 52, 53, 54, 55, 56, 57, 58, 59, 60, 61, 62, 63, 64, 65, 66, 67, 68, 69, 70, 71, 72, 73, 74, 75, 76, 77, 78, 79, 80, 81, 82, 83, 84, 85, 86, 87, 88, 89, 90, 91, 92, 93, 94, 95, 96, 97, 98, 99]\n"
          ]
        }
      ]
    }
  ]
}