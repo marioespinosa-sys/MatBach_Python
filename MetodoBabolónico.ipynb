{
  "nbformat": 4,
  "nbformat_minor": 0,
  "metadata": {
    "colab": {
      "provenance": [],
      "authorship_tag": "ABX9TyNhv5EhL8491UMjFEgqQNkT",
      "include_colab_link": true
    },
    "kernelspec": {
      "name": "python3",
      "display_name": "Python 3"
    },
    "language_info": {
      "name": "python"
    }
  },
  "cells": [
    {
      "cell_type": "markdown",
      "metadata": {
        "id": "view-in-github",
        "colab_type": "text"
      },
      "source": [
        "<a href=\"https://colab.research.google.com/github/marioespinosa-sys/MatBach_Python/blob/main/MetodoBabol%C3%B3nico.ipynb\" target=\"_parent\"><img src=\"https://colab.research.google.com/assets/colab-badge.svg\" alt=\"Open In Colab\"/></a>"
      ]
    },
    {
      "cell_type": "code",
      "execution_count": 5,
      "metadata": {
        "colab": {
          "base_uri": "https://localhost:8080/"
        },
        "collapsed": true,
        "id": "YNVUOOKJcyEm",
        "outputId": "07126fb2-f49f-4e73-cac2-a9200666e1ed"
      },
      "outputs": [
        {
          "output_type": "stream",
          "name": "stdout",
          "text": [
            "Dame el valor del cual quieres la raíz: 45\n",
            "Dam una aproximación: 7\n",
            "La raíz aproximada de 45.0 es 6.7142857142857144126\n",
            "\n",
            "La raíz con math de 45.0 es 6.7082039324993694152\n",
            "\n",
            "La suceción es:  [6.714285714285714]\n",
            "\n",
            "La raíz aproximada de 45.0 es 6.7082066869300911449\n",
            "\n",
            "La raíz con math de 45.0 es 6.7082039324993694152\n",
            "\n",
            "La suceción es:  [6.714285714285714, 6.708206686930091]\n",
            "\n",
            "La raíz aproximada de 45.0 es 6.7082039324999342966\n",
            "\n",
            "La raíz con math de 45.0 es 6.7082039324993694152\n",
            "\n",
            "La suceción es:  [6.714285714285714, 6.708206686930091, 6.708203932499934]\n",
            "\n",
            "La raíz aproximada de 45.0 es 6.7082039324993694152\n",
            "\n",
            "La raíz con math de 45.0 es 6.7082039324993694152\n",
            "\n",
            "La suceción es:  [6.714285714285714, 6.708206686930091, 6.708203932499934, 6.708203932499369]\n",
            "\n",
            "La raíz aproximada de 45.0 es 6.7082039324993694152\n",
            "\n",
            "La raíz con math de 45.0 es 6.7082039324993694152\n",
            "\n",
            "La suceción es:  [6.714285714285714, 6.708206686930091, 6.708203932499934, 6.708203932499369, 6.708203932499369]\n",
            "\n",
            "La raíz aproximada de 45.0 es 6.7082039324993694152\n",
            "\n",
            "La raíz con math de 45.0 es 6.7082039324993694152\n",
            "\n",
            "La suceción es:  [6.714285714285714, 6.708206686930091, 6.708203932499934, 6.708203932499369, 6.708203932499369, 6.708203932499369]\n",
            "\n"
          ]
        }
      ],
      "source": [
        "import math\n",
        "\n",
        "n = float(input(\"Dame el valor del cual quieres la raíz: \"))\n",
        "aprox = float(input(\"Dam una aproximación: \"))\n",
        "\n",
        "sucRaiz = []\n",
        "\n",
        "for i in range(6):\n",
        "  aprox = (1/2)*(aprox + n/aprox)\n",
        "  sucRaiz.append(aprox)\n",
        "\n",
        "  print(\"La raíz aproximada de {0} es {1:.20}\".format(n,aprox))\n",
        "  print()\n",
        "  print(\"La raíz con math de {0} es {1:.20}\".format(n,math.sqrt(n)))\n",
        "  print()\n",
        "  print(\"La suceción es: \", sucRaiz)\n",
        "  print()"
      ]
    },
    {
      "cell_type": "markdown",
      "source": [
        "Actividad:\n",
        "Ver con cuantas iteraciones y con cuántas cifras se aproxima correctamente para:\n",
        "a) raíz de 11 con aproximación 3"
      ],
      "metadata": {
        "id": "D0XjrBHoTzR-"
      }
    },
    {
      "cell_type": "code",
      "source": [
        "import math\n",
        "\n",
        "n = float(input(\"Dame el valor del cual quieres la raíz: \"))\n",
        "aprox = float(input(\"Dam una aproximación: \"))\n",
        "\n",
        "sucRaiz = []\n",
        "\n",
        "for i in range(3):\n",
        "  aprox = (1/2)*(aprox + n/aprox)\n",
        "  sucRaiz.append(aprox)\n",
        "\n",
        "  print(\"La raíz aproximada de {0} es {1:.20}\".format(n,aprox))\n",
        "  print()\n",
        "  print(\"La raíz con math de {0} es {1:.20}\".format(n,math.sqrt(n)))\n",
        "  print()\n",
        "  print(\"La suceción es: \", sucRaiz)\n",
        "  print()\n",
        "  if abs(aprox - math.sqrt(n)) < 0.0000001:\n",
        "    print(\"El valor obtenido es muy cercano al valor obtenido con math\")\n",
        "    print(\"Estas iteraciones son suficientes para que la solución se considere correcta\")\n",
        "  else:\n",
        "    print(\"El valor obtenido no es muy cercano al valor obtenido con math\")\n",
        "    print(\"La diferencia entre los valores es de {0:.20}\".format(abs(aprox - math.sqrt(n))))\n",
        "  print()\n",
        "\n"
      ],
      "metadata": {
        "colab": {
          "base_uri": "https://localhost:8080/"
        },
        "collapsed": true,
        "id": "jDevyEWaTo85",
        "outputId": "143a6c45-a622-47f1-c488-76060d1f61cc"
      },
      "execution_count": 12,
      "outputs": [
        {
          "output_type": "stream",
          "name": "stdout",
          "text": [
            "Dame el valor del cual quieres la raíz: 11\n",
            "Dam una aproximación: 3\n",
            "La raíz aproximada de 11.0 es 3.3333333333333330373\n",
            "\n",
            "La raíz con math de 11.0 es 3.31662479035539981\n",
            "\n",
            "La suceción es:  [3.333333333333333]\n",
            "\n",
            "El valor obtenido no es muy cercano al valor obtenido con math\n",
            "La diferencia entre los valores es de 0.016708542977933227291\n",
            "\n",
            "La raíz aproximada de 11.0 es 3.3166666666666664298\n",
            "\n",
            "La raíz con math de 11.0 es 3.31662479035539981\n",
            "\n",
            "La suceción es:  [3.333333333333333, 3.3166666666666664]\n",
            "\n",
            "El valor obtenido no es muy cercano al valor obtenido con math\n",
            "La diferencia entre los valores es de 4.1876311266619836715e-05\n",
            "\n",
            "La raíz aproximada de 11.0 es 3.3166247906197652284\n",
            "\n",
            "La raíz con math de 11.0 es 3.31662479035539981\n",
            "\n",
            "La suceción es:  [3.333333333333333, 3.3166666666666664, 3.3166247906197652]\n",
            "\n",
            "El valor obtenido es muy cercano al valor obtenido con math\n",
            "Estas iteraciones son suficientes para que la solución se considere correcta\n",
            "\n"
          ]
        }
      ]
    },
    {
      "cell_type": "markdown",
      "source": [
        "Actividad:\n",
        "Ver con cuantas iteraciones y con cuántas cifras se aproxima correctamente para:\n",
        "b) raíz de 2 con aproximación 1"
      ],
      "metadata": {
        "id": "hNjkGBtIXkdK"
      }
    },
    {
      "cell_type": "code",
      "source": [
        "import math\n",
        "\n",
        "n = float(input(\"Dame el valor del cual quieres la raíz: \"))\n",
        "aprox = float(input(\"Dam una aproximación: \"))\n",
        "\n",
        "sucRaiz = []\n",
        "\n",
        "for i in range(1):\n",
        "  aprox = (1/2)*(aprox + n/aprox)\n",
        "  sucRaiz.append(aprox)\n",
        "  dif = abs(aprox - math.sqrt(n))\n",
        "  print(\"La raíz aproximada de {0} es {1:.20}\".format(n,aprox))\n",
        "  print()\n",
        "  print(\"La raíz con math de {0} es {1:.20}\".format(n,math.sqrt(n)))\n",
        "  print()\n",
        "  print(\"La suceción es: \", sucRaiz)\n",
        "  print()\n",
        "  if abs(aprox - math.sqrt(n)) < 0.0000001:\n",
        "    print(\"El valor obtenido es muy cercano al valor obtenido con math\")\n",
        "    print(\"Estas iteraciones son suficientes para que la solución se considere correcta\")\n",
        "  else:\n",
        "    print(\"El valor obtenido no es muy cercano al valor obtenido con math\")\n",
        "    print(\"Estas iteraciones no son suficientes para que la solución se considere correcta\")\n",
        "    print(\"La diferencia entre los valores es de {0:.20}\".format(dif))\n",
        "  print()"
      ],
      "metadata": {
        "colab": {
          "base_uri": "https://localhost:8080/"
        },
        "collapsed": true,
        "id": "f7nb3FA0Xr_u",
        "outputId": "ad4e8bdc-a22b-4ac6-cd6a-7b0ec936d7c2"
      },
      "execution_count": 14,
      "outputs": [
        {
          "output_type": "stream",
          "name": "stdout",
          "text": [
            "Dame el valor del cual quieres la raíz: 2\n",
            "Dam una aproximación: 1\n",
            "La raíz aproximada de 2.0 es 1.5\n",
            "\n",
            "La raíz con math de 2.0 es 1.4142135623730951455\n",
            "\n",
            "La suceción es:  [1.5]\n",
            "\n",
            "El valor obtenido no es muy cercano al valor obtenido con math\n",
            "Estas iteraciones no son suficientes para que la solución se considere correcta\n",
            "La diferencia entre los valores es de 0.085786437626904854525\n",
            "\n"
          ]
        }
      ]
    },
    {
      "cell_type": "markdown",
      "source": [
        "Actividad:\n",
        "Ver con cuantas iteraciones y con cuántas cifras se aproxima correctamente para:\n",
        "b.1) raíz de 2 con aproximación 4"
      ],
      "metadata": {
        "id": "7C8mOPC5aOcH"
      }
    },
    {
      "cell_type": "code",
      "source": [
        "import math\n",
        "\n",
        "n = float(input(\"Dame el valor del cual quieres la raíz: \"))\n",
        "aprox = float(input(\"Dam una aproximación: \"))\n",
        "\n",
        "sucRaiz = []\n",
        "\n",
        "for i in range(4):\n",
        "  aprox = (1/2)*(aprox + n/aprox)\n",
        "  sucRaiz.append(aprox)\n",
        "  dif = abs(aprox - math.sqrt(n))\n",
        "  print(\"La raíz aproximada de {0} es {1:.20}\".format(n,aprox))\n",
        "  print()\n",
        "  print(\"La raíz con math de {0} es {1:.20}\".format(n,math.sqrt(n)))\n",
        "  print()\n",
        "  print(\"La suceción es: \", sucRaiz)\n",
        "  print()\n",
        "  if abs(aprox - math.sqrt(n)) < 0.0000001:\n",
        "    print(\"El valor obtenido es muy cercano al valor obtenido con math\")\n",
        "    print(\"Estas iteraciones son suficientes para que la solución se considere correcta\")\n",
        "    print(\"La diferencia entre los valores es de {0:.20}\".format(dif))\n",
        "  else:\n",
        "    print(\"El valor obtenido no es muy cercano al valor obtenido con math\")\n",
        "    print(\"Estas iteraciones no son suficientes para que la solución se considere correcta\")\n",
        "    print(\"La diferencia entre los valores es de {0:.20}\".format(dif))\n",
        "  print()"
      ],
      "metadata": {
        "colab": {
          "base_uri": "https://localhost:8080/"
        },
        "collapsed": true,
        "id": "klmnW5Q9bxsL",
        "outputId": "8d1d065c-7af2-4170-c017-3711e9728833"
      },
      "execution_count": 24,
      "outputs": [
        {
          "output_type": "stream",
          "name": "stdout",
          "text": [
            "Dame el valor del cual quieres la raíz: 231\n",
            "Dam una aproximación: 15\n",
            "La raíz aproximada de 231.0 es 15.199999999999999289\n",
            "\n",
            "La raíz con math de 231.0 es 15.198684153570663824\n",
            "\n",
            "La suceción es:  [15.2]\n",
            "\n",
            "El valor obtenido no es muy cercano al valor obtenido con math\n",
            "Estas iteraciones no son suficientes para que la solución se considere correcta\n",
            "La diferencia entre los valores es de 0.0013158464293354654728\n",
            "\n",
            "La raíz aproximada de 231.0 es 15.198684210526316463\n",
            "\n",
            "La raíz con math de 231.0 es 15.198684153570663824\n",
            "\n",
            "La suceción es:  [15.2, 15.198684210526316]\n",
            "\n",
            "El valor obtenido es muy cercano al valor obtenido con math\n",
            "Estas iteraciones son suficientes para que la solución se considere correcta\n",
            "\n",
            "La raíz aproximada de 231.0 es 15.198684153570663824\n",
            "\n",
            "La raíz con math de 231.0 es 15.198684153570663824\n",
            "\n",
            "La suceción es:  [15.2, 15.198684210526316, 15.198684153570664]\n",
            "\n",
            "El valor obtenido es muy cercano al valor obtenido con math\n",
            "Estas iteraciones son suficientes para que la solución se considere correcta\n",
            "\n",
            "La raíz aproximada de 231.0 es 15.198684153570663824\n",
            "\n",
            "La raíz con math de 231.0 es 15.198684153570663824\n",
            "\n",
            "La suceción es:  [15.2, 15.198684210526316, 15.198684153570664, 15.198684153570664]\n",
            "\n",
            "El valor obtenido es muy cercano al valor obtenido con math\n",
            "Estas iteraciones son suficientes para que la solución se considere correcta\n",
            "\n"
          ]
        }
      ]
    },
    {
      "cell_type": "markdown",
      "source": [
        "Actividad.\n",
        "Ver con cuantas iteraciones y con cuatas cifras se aproxima correctamente para:\n",
        "c) raíz de 231 poniendo el prámetro de formato del número a 49 cifras decimales"
      ],
      "metadata": {
        "id": "XL5P3XM4b6iu"
      }
    },
    {
      "cell_type": "code",
      "source": [
        "import math\n",
        "\n",
        "n = float(input(\"Dame el valor del cual quieres la raíz: \"))\n",
        "aprox = float(input(\"Dam una aproximación: \"))\n",
        "\n",
        "sucRaiz = [60]\n",
        "\n",
        "for i in range(1):\n",
        "  aprox = (1/2)*(aprox + n/aprox)\n",
        "  sucRaiz.append(aprox)\n",
        "  dif = abs(aprox - math.sqrt(n))\n",
        "  print(\"La raíz aproximada de {0} es {1:.49}\".format(n,aprox))\n",
        "  print()\n",
        "  print(\"La raíz con math de {0} es {1:.49}\".format(n,math.sqrt(n)))\n",
        "  print()\n",
        "  print(\"La suceción es: \", sucRaiz)\n",
        "  print()\n",
        "  if abs(aprox - math.sqrt(n)) < 0.0000001:\n",
        "    print(\"El valor obtenido es muy cercano al valor obtenido con math\")\n",
        "    print(\"Estas iteraciones son suficientes para que la solución se considere correcta\")\n",
        "    print(\"La diferencia entre los valores es de {0:.20}\".format(dif))\n",
        "  else:\n",
        "    print(\"El valor obtenido no es muy cercano al valor obtenido con math\")\n",
        "    print(\"Estas iteraciones no son suficientes para que la solución se considere correcta\")\n",
        "    print(\"La diferencia entre los valores es de {0:.20}\".format(dif))\n",
        "  print()"
      ],
      "metadata": {
        "colab": {
          "base_uri": "https://localhost:8080/"
        },
        "collapsed": true,
        "id": "LDNyIPqxcO5R",
        "outputId": "c04a94dc-8745-45da-c5fa-1338bd7e5ee0"
      },
      "execution_count": 27,
      "outputs": [
        {
          "output_type": "stream",
          "name": "stdout",
          "text": [
            "Dame el valor del cual quieres la raíz: 231\n",
            "Dam una aproximación: 15\n",
            "La raíz aproximada de 231.0 es 15.19999999999999928945726423989981412887573242188\n",
            "\n",
            "La raíz con math de 231.0 es 15.19868415357066382398443238344043493270874023438\n",
            "\n",
            "La suceción es:  [60, 15.2]\n",
            "\n",
            "El valor obtenido no es muy cercano al valor obtenido con math\n",
            "Estas iteraciones no son suficientes para que la solución se considere correcta\n",
            "La diferencia entre los valores es de 0.0013158464293354654728\n",
            "\n"
          ]
        }
      ]
    }
  ]
}