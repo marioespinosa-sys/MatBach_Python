{
  "nbformat": 4,
  "nbformat_minor": 0,
  "metadata": {
    "colab": {
      "provenance": [],
      "authorship_tag": "ABX9TyMPce+GZbXYf34fL/S6WXLv",
      "include_colab_link": true
    },
    "kernelspec": {
      "name": "python3",
      "display_name": "Python 3"
    },
    "language_info": {
      "name": "python"
    }
  },
  "cells": [
    {
      "cell_type": "markdown",
      "metadata": {
        "id": "view-in-github",
        "colab_type": "text"
      },
      "source": [
        "<a href=\"https://colab.research.google.com/github/marioespinosa-sys/MatBach_Python/blob/main/Jueves20complejos.ipynb\" target=\"_parent\"><img src=\"https://colab.research.google.com/assets/colab-badge.svg\" alt=\"Open In Colab\"/></a>"
      ]
    },
    {
      "cell_type": "code",
      "execution_count": null,
      "metadata": {
        "id": "iyOKIPJZl5nQ"
      },
      "outputs": [],
      "source": []
    },
    {
      "cell_type": "markdown",
      "source": [
        "entreda de complejos desde el teclado\n",
        "\n",
        "escribir el número sin dejar espacios: a+bj"
      ],
      "metadata": {
        "id": "xxaiGeBOl8fl"
      }
    },
    {
      "cell_type": "code",
      "source": [
        "z1 = complex(input(\"Da un número complejo: \"))\n",
        "z2 = complex(input(\"Da otro número complejo: \"))\n"
      ],
      "metadata": {
        "colab": {
          "base_uri": "https://localhost:8080/"
        },
        "id": "p6N-pITqmGUA",
        "outputId": "81ebb189-36f0-4b2f-da6d-f4d12bbe14d7"
      },
      "execution_count": null,
      "outputs": [
        {
          "name": "stdout",
          "output_type": "stream",
          "text": [
            "Da un número complejo: 3+5j\n",
            "Da otro número complejo: -2-2j\n"
          ]
        }
      ]
    },
    {
      "cell_type": "code",
      "source": [
        "print(z1 + z2)"
      ],
      "metadata": {
        "colab": {
          "base_uri": "https://localhost:8080/"
        },
        "id": "YFFnf3WAmzC-",
        "outputId": "b95a8130-38a7-41d8-f31c-044eba9060cc"
      },
      "execution_count": null,
      "outputs": [
        {
          "output_type": "stream",
          "name": "stdout",
          "text": [
            "(1+3j)\n"
          ]
        }
      ]
    },
    {
      "cell_type": "code",
      "source": [
        "print(z1 - z2)"
      ],
      "metadata": {
        "colab": {
          "base_uri": "https://localhost:8080/"
        },
        "id": "YQ6XV_oWm5JI",
        "outputId": "80d03528-1cf1-42d1-d0dc-810209b45f48"
      },
      "execution_count": null,
      "outputs": [
        {
          "output_type": "stream",
          "name": "stdout",
          "text": [
            "(5+7j)\n"
          ]
        }
      ]
    },
    {
      "cell_type": "code",
      "source": [
        "print(z1 * z2)"
      ],
      "metadata": {
        "colab": {
          "base_uri": "https://localhost:8080/"
        },
        "id": "BnmEGN_rm-qI",
        "outputId": "8985dfe7-0aeb-49c0-c3b7-492d9c565fb4"
      },
      "execution_count": null,
      "outputs": [
        {
          "output_type": "stream",
          "name": "stdout",
          "text": [
            "(4-16j)\n"
          ]
        }
      ]
    },
    {
      "cell_type": "code",
      "source": [
        "print(z1 / z2)"
      ],
      "metadata": {
        "colab": {
          "base_uri": "https://localhost:8080/"
        },
        "id": "4ME3utPOnCbR",
        "outputId": "c7d30f5e-0edf-45ec-d9b1-f0309f8e98fc"
      },
      "execution_count": null,
      "outputs": [
        {
          "output_type": "stream",
          "name": "stdout",
          "text": [
            "(-2-0.5j)\n"
          ]
        }
      ]
    },
    {
      "cell_type": "code",
      "source": [
        "print(z1**z2)"
      ],
      "metadata": {
        "colab": {
          "base_uri": "https://localhost:8080/"
        },
        "id": "ignuQE6NnIn6",
        "outputId": "bb22d2f9-8e53-4025-dba4-a1a18b9e5f7d"
      },
      "execution_count": null,
      "outputs": [
        {
          "output_type": "stream",
          "name": "stdout",
          "text": [
            "(0.1772141214680209+0.14807910833283025j)\n"
          ]
        }
      ]
    },
    {
      "cell_type": "code",
      "source": [
        "print(z2**z1)"
      ],
      "metadata": {
        "colab": {
          "base_uri": "https://localhost:8080/"
        },
        "id": "_NpCMS4ynP-V",
        "outputId": "9dfab894-2e21-4adf-8af9-3de74c403525"
      },
      "execution_count": null,
      "outputs": [
        {
          "output_type": "stream",
          "name": "stdout",
          "text": [
            "(-871937.1912672997-2826911.639701434j)\n"
          ]
        }
      ]
    },
    {
      "cell_type": "code",
      "source": [],
      "metadata": {
        "id": "5wOK94XgnTls"
      },
      "execution_count": null,
      "outputs": []
    },
    {
      "cell_type": "markdown",
      "source": [],
      "metadata": {
        "id": "NmaXaejtpja-"
      }
    }
  ]
}