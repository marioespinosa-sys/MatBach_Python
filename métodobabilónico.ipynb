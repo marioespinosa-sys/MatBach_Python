{
  "nbformat": 4,
  "nbformat_minor": 0,
  "metadata": {
    "colab": {
      "provenance": [],
      "authorship_tag": "ABX9TyPff68MeqEtVJce5+J3MCqF",
      "include_colab_link": true
    },
    "kernelspec": {
      "name": "python3",
      "display_name": "Python 3"
    },
    "language_info": {
      "name": "python"
    }
  },
  "cells": [
    {
      "cell_type": "markdown",
      "metadata": {
        "id": "view-in-github",
        "colab_type": "text"
      },
      "source": [
        "<a href=\"https://colab.research.google.com/github/marioespinosa-sys/MatBach_Python/blob/main/m%C3%A9todobabil%C3%B3nico.ipynb\" target=\"_parent\"><img src=\"https://colab.research.google.com/assets/colab-badge.svg\" alt=\"Open In Colab\"/></a>"
      ]
    },
    {
      "cell_type": "code",
      "source": [
        "# Cálculo de raíces reales positivas con el método babilónico\n",
        "import math\n",
        "sucRaiz = []\n",
        "\n",
        "n = int(input(\"Ingrese un número: \"))\n",
        "print(\"Aproximación de la raíz cuadrada de \",n,)\n",
        "\n",
        "xn = int(input(\"Ingresa un entero próximo a la raíz cuadrada: \"))\n",
        "print(\"Aproximación de la raíz cuadrada de \",xn,)\n",
        "\n",
        "for i in range(6):\n",
        "    xn = (1/2)*(xn + n/xn)\n",
        "    sucRaiz.append(xn)\n",
        "\n",
        "    print(\"La raíz aproximada de {0} es {1:.20} \\n \".format(n,xn))\n",
        "    print(\"La raíz con mat de {0} es {1:.20} \\n\".format(n,math.sqrt(n)))\n",
        "    print(\"Las suceciónes:\",sucRaiz)"
      ],
      "metadata": {
        "colab": {
          "base_uri": "https://localhost:8080/"
        },
        "id": "6qtJzXmkRVcm",
        "outputId": "027fdf93-fc89-4ba5-95da-f16ffc2bf225"
      },
      "execution_count": 1,
      "outputs": [
        {
          "output_type": "stream",
          "name": "stdout",
          "text": [
            "Ingrese un número: 45\n",
            "Aproximación de la raíz cuadrada de  45\n",
            "Ingresa un entero próximo a la raíz cuadrada: 7\n",
            "Aproximación de la raíz cuadrada de  7\n",
            "La raíz aproximada de 45 es 6.7142857142857144126 \n",
            " \n",
            "La raíz con mat de 45 es 6.7082039324993694152 \n",
            "\n",
            "Las suceciónes: [6.714285714285714]\n",
            "La raíz aproximada de 45 es 6.7082066869300911449 \n",
            " \n",
            "La raíz con mat de 45 es 6.7082039324993694152 \n",
            "\n",
            "Las suceciónes: [6.714285714285714, 6.708206686930091]\n",
            "La raíz aproximada de 45 es 6.7082039324999342966 \n",
            " \n",
            "La raíz con mat de 45 es 6.7082039324993694152 \n",
            "\n",
            "Las suceciónes: [6.714285714285714, 6.708206686930091, 6.708203932499934]\n",
            "La raíz aproximada de 45 es 6.7082039324993694152 \n",
            " \n",
            "La raíz con mat de 45 es 6.7082039324993694152 \n",
            "\n",
            "Las suceciónes: [6.714285714285714, 6.708206686930091, 6.708203932499934, 6.708203932499369]\n",
            "La raíz aproximada de 45 es 6.7082039324993694152 \n",
            " \n",
            "La raíz con mat de 45 es 6.7082039324993694152 \n",
            "\n",
            "Las suceciónes: [6.714285714285714, 6.708206686930091, 6.708203932499934, 6.708203932499369, 6.708203932499369]\n",
            "La raíz aproximada de 45 es 6.7082039324993694152 \n",
            " \n",
            "La raíz con mat de 45 es 6.7082039324993694152 \n",
            "\n",
            "Las suceciónes: [6.714285714285714, 6.708206686930091, 6.708203932499934, 6.708203932499369, 6.708203932499369, 6.708203932499369]\n"
          ]
        }
      ]
    }
  ]
}