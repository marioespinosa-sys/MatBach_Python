{
  "nbformat": 4,
  "nbformat_minor": 0,
  "metadata": {
    "colab": {
      "provenance": [],
      "authorship_tag": "ABX9TyNmfE93tyws69QcXHIQ6MNz",
      "include_colab_link": true
    },
    "kernelspec": {
      "name": "python3",
      "display_name": "Python 3"
    },
    "language_info": {
      "name": "python"
    }
  },
  "cells": [
    {
      "cell_type": "markdown",
      "metadata": {
        "id": "view-in-github",
        "colab_type": "text"
      },
      "source": [
        "<a href=\"https://colab.research.google.com/github/marioespinosa-sys/MatBach_Python/blob/main/MaximoComunDivisor.ipynb\" target=\"_parent\"><img src=\"https://colab.research.google.com/assets/colab-badge.svg\" alt=\"Open In Colab\"/></a>"
      ]
    },
    {
      "cell_type": "code",
      "execution_count": null,
      "metadata": {
        "id": "spLiqdxUYCPz"
      },
      "outputs": [],
      "source": [
        "Máximo Común Divisor / Algoritmo de Euclides\n",
        "\n",
        "Máximo Común Divisor (a,b)\n",
        "\n",
        "a=b*q+r1 0<=r1<|b|\n",
        "Así rn=(a,b)\n",
        "entreda de datos de tipo a>b y a,b < 0 < a,b"
      ]
    },
    {
      "cell_type": "code",
      "source": [
        "a = int(input(\"Dame el primer entero: \"))\n",
        "b = int(input(\"Dame el segundo entero: \"))\n",
        "\n",
        "q = a // b\n",
        "r = a - b*q\n",
        "while r !=0:\n",
        "    a = b\n",
        "    b = r\n",
        "    print(a, b)\n",
        "    q = a//b\n",
        "    r = a-b*q\n",
        "    print(\"El máximo común divisor es: \", b)"
      ],
      "metadata": {
        "colab": {
          "base_uri": "https://localhost:8080/"
        },
        "id": "_zg480LxZ3Rm",
        "outputId": "7a63fded-1c93-4348-b78b-99e9df77291a"
      },
      "execution_count": null,
      "outputs": [
        {
          "output_type": "stream",
          "name": "stdout",
          "text": [
            "Dame el primer entero: 568\n",
            "Dame el segundo entero: 24\n",
            "24 16\n",
            "El máximo común divisor es:  16\n",
            "16 8\n",
            "El máximo común divisor es:  8\n"
          ]
        }
      ]
    }
  ]
}