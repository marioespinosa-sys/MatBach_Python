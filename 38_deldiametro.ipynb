{
  "nbformat": 4,
  "nbformat_minor": 0,
  "metadata": {
    "colab": {
      "provenance": [],
      "authorship_tag": "ABX9TyPwvpuDYMRFAsWZ9f3cZtqL",
      "include_colab_link": true
    },
    "kernelspec": {
      "name": "python3",
      "display_name": "Python 3"
    },
    "language_info": {
      "name": "python"
    }
  },
  "cells": [
    {
      "cell_type": "markdown",
      "metadata": {
        "id": "view-in-github",
        "colab_type": "text"
      },
      "source": [
        "<a href=\"https://colab.research.google.com/github/marioespinosa-sys/MatBach_Python/blob/main/38_deldiametro.ipynb\" target=\"_parent\"><img src=\"https://colab.research.google.com/assets/colab-badge.svg\" alt=\"Open In Colab\"/></a>"
      ]
    },
    {
      "cell_type": "code",
      "execution_count": 24,
      "metadata": {
        "colab": {
          "base_uri": "https://localhost:8080/"
        },
        "id": "z0Hydot3bU5L",
        "outputId": "424eb1ad-df0a-4983-88f3-0ef60ef3ed9d"
      },
      "outputs": [
        {
          "output_type": "stream",
          "name": "stdout",
          "text": [
            "\u001b[1mOrdenado por proximidad al Sol:\u001b[0m\n",
            "El planeta Sol tiene un diámetro de 1392000 km.\n",
            "El planeta Mercurio tiene un diámetro de 4879 km.\n",
            "El planeta Venus tiene un diámetro de 12092 km.\n",
            "El planeta Tierra tiene un diámetro de 12756 km.\n",
            "El planeta Marte tiene un diámetro de 6779 km.\n",
            "El planeta Júpiter tiene un diámetro de 142984 km.\n",
            "El planeta Saturno tiene un diámetro de 120536 km.\n",
            "El planeta Urano tiene un diámetro de 51118 km.\n",
            "El planeta Plutón tiene un diámetro de 2376.6 km.\n",
            "\n",
            "\u001b[1mOrdenado alfabético ascendente:\u001b[0m\n",
            "El planeta Júpiter tiene un diámetro de 142984 km.\n",
            "El planeta Marte tiene un diámetro de 6779 km.\n",
            "El planeta Mercurio tiene un diámetro de 4879 km.\n",
            "El planeta Plutón tiene un diámetro de 2376.6 km.\n",
            "El planeta Saturno tiene un diámetro de 120536 km.\n",
            "El planeta Sol tiene un diámetro de 1392000 km.\n",
            "El planeta Tierra tiene un diámetro de 12756 km.\n",
            "El planeta Urano tiene un diámetro de 51118 km.\n",
            "El planeta Venus tiene un diámetro de 12092 km.\n",
            "\n",
            "\u001b[1mOrdenado alfabético descendente:\u001b[0m\n",
            "El planeta Venus tiene un diámetro de 12092 km.\n",
            "El planeta Urano tiene un diámetro de 51118 km.\n",
            "El planeta Tierra tiene un diámetro de 12756 km.\n",
            "El planeta Sol tiene un diámetro de 1392000 km.\n",
            "El planeta Saturno tiene un diámetro de 120536 km.\n",
            "El planeta Plutón tiene un diámetro de 2376.6 km.\n",
            "El planeta Mercurio tiene un diámetro de 4879 km.\n",
            "El planeta Marte tiene un diámetro de 6779 km.\n",
            "El planeta Júpiter tiene un diámetro de 142984 km.\n",
            "\n",
            "El planeta que tiene aprox. el 38% del diámetro de la Tierra es: Mercurio\n",
            "El planeta que tiene aprox. el 38% del diámetro de la Tierra es: Mercurio\n",
            "El planeta que tiene aprox. el 38% del diámetro de la Tierra es: Mercurio\n",
            "El planeta que tiene aprox. el 38% del diámetro de la Tierra es: Mercurio\n",
            "El planeta que tiene aprox. el 38% del diámetro de la Tierra es: Mercurio\n",
            "El planeta que tiene aprox. el 38% del diámetro de la Tierra es: Mercurio\n",
            "El planeta que tiene aprox. el 38% del diámetro de la Tierra es: Mercurio\n",
            "El planeta que tiene aprox. el 38% del diámetro de la Tierra es: Mercurio\n",
            "\n"
          ]
        }
      ],
      "source": [
        "print(\"\\033[1mOrdenado por proximidad al Sol:\\033[0m\")\n",
        "ssDiametro = {\"Sol\": 1392000, \"Mercurio\": 4879, \"Venus\": 12092, \"Tierra\": 12756, \"Marte\": 6779, \"Júpiter\": 142984, \"Saturno\": 120536, \"Urano\": 51118, \"Plutón\": 2376.6}\n",
        "for x in (ssDiametro):\n",
        "  print(f\"El planeta {x} tiene un diámetro de {ssDiametro[x]} km.\")\n",
        "print()\n",
        "\n",
        "print(\"\\033[1mOrdenado alfabético ascendente:\\033[0m\")\n",
        "for x in sorted(ssDiametro):\n",
        "  print(f\"El planeta {x} tiene un diámetro de {ssDiametro[x]} km.\")\n",
        "print()\n",
        "\n",
        "print(\"\\033[1mOrdenado alfabético descendente:\\033[0m\")\n",
        "for x in sorted(ssDiametro, reverse=True):\n",
        "  print(f\"El planeta {x} tiene un diámetro de {ssDiametro[x]} km.\")\n",
        "print()\n",
        "\n",
        "r = {}\n",
        "for planeta in ssDiametro:\n",
        "  r[planeta] = ssDiametro[planeta] / ssDiametro[\"Tierra\"]\n",
        "\n",
        "  for x in r:\n",
        "    if 0.39 > r[x] > 0.38:\n",
        "      print(f\"El planeta que tiene aprox. el 38% del diámetro de la Tierra es: {x}\")\n",
        "      break\n",
        "\n",
        "print()\n"
      ]
    }
  ]
}