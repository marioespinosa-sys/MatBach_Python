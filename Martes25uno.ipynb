{
  "nbformat": 4,
  "nbformat_minor": 0,
  "metadata": {
    "colab": {
      "provenance": [],
      "authorship_tag": "ABX9TyN8hkYMu7ec96nCYbJyG+cp",
      "include_colab_link": true
    },
    "kernelspec": {
      "name": "python3",
      "display_name": "Python 3"
    },
    "language_info": {
      "name": "python"
    }
  },
  "cells": [
    {
      "cell_type": "markdown",
      "metadata": {
        "id": "view-in-github",
        "colab_type": "text"
      },
      "source": [
        "<a href=\"https://colab.research.google.com/github/marioespinosa-sys/MatBach_Python/blob/main/Martes25uno.ipynb\" target=\"_parent\"><img src=\"https://colab.research.google.com/assets/colab-badge.svg\" alt=\"Open In Colab\"/></a>"
      ]
    },
    {
      "cell_type": "code",
      "execution_count": null,
      "metadata": {
        "id": "a75UvlSIJPmQ"
      },
      "outputs": [],
      "source": [
        "# Programa para calcular las raíces de una ecuación de segundo grado a partir de los coeficientes"
      ]
    },
    {
      "cell_type": "code",
      "source": [
        "import cmath\n",
        "\n",
        "a = int(input(\"ingresa el valor del coeficiente a  \"))\n",
        "b = int(input( \"ingresa el valor del coeficiente b  \"))\n",
        "c = int(input( \"ingresa el valor del coeficiente c  \"))\n",
        "\n",
        "x1 = (-b + cmath.sqrt(b**2 - 4*a*c))/(2*a)\n",
        "x2 = (-b - cmath.sqrt(b**2 - 4*a*c))/(2*a)\n",
        "\n",
        "\n",
        "print(\"la primera raiz es \", x1)\n",
        "print(\"la segunda raiz es \", x2)\n"
      ],
      "metadata": {
        "colab": {
          "base_uri": "https://localhost:8080/"
        },
        "id": "CX4yV4OZLmnc",
        "outputId": "5364aa27-679f-479a-95d4-b95547c1a394"
      },
      "execution_count": null,
      "outputs": [
        {
          "output_type": "stream",
          "name": "stdout",
          "text": [
            "ingresa el valor del coeficiente a  5\n",
            "ingresa el valor del coeficiente b  5\n",
            "ingresa el valor del coeficiente c  5\n",
            "la primera raiz es  (-0.5+0.8660254037844387j)\n",
            "la segunda raiz es  (-0.5-0.8660254037844387j)\n"
          ]
        }
      ]
    },
    {
      "cell_type": "code",
      "source": [
        "import math\n",
        "import cmath\n",
        "valores = input(\"Dame los coeficientes a b c de la ec de segundo grado \" +\n",
        "                \"\\n ax^2 + bx +c = 0: \")\n",
        "\n",
        "a , b , c = valores.split()\n",
        "a = float(a)\n",
        "b = float(b)\n",
        "c = float(c)\n",
        "\n",
        "x1 = (-b + cmath.sqrt(b**2 - 4*a*c))/(2*a)\n",
        "x2 = (-b - cmath.sqrt(b**2 - 4*a*c))/(2*a)\n",
        "\n",
        "\n",
        "print(\"la primera raiz es \", x1)\n",
        "print(\"la segunda raiz es \", x2)\n",
        "\n"
      ],
      "metadata": {
        "colab": {
          "base_uri": "https://localhost:8080/"
        },
        "id": "uGCDvrHNPfD-",
        "outputId": "50c92d74-5d8c-4c86-f68b-05afd265409b"
      },
      "execution_count": null,
      "outputs": [
        {
          "output_type": "stream",
          "name": "stdout",
          "text": [
            "Dame los coeficientes a b c de la ec de segundo grado \n",
            " ax^2 + bx +c = 0: 5 5 5\n",
            "la primera raiz es  (-0.5+0.8660254037844387j)\n",
            "la segunda raiz es  (-0.5-0.8660254037844387j)\n"
          ]
        }
      ]
    }
  ]
}