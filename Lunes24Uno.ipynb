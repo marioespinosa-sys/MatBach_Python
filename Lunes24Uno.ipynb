{
  "nbformat": 4,
  "nbformat_minor": 0,
  "metadata": {
    "colab": {
      "provenance": [],
      "authorship_tag": "ABX9TyNyQC/E5PozWsEbmIt/wJG0",
      "include_colab_link": true
    },
    "kernelspec": {
      "name": "python3",
      "display_name": "Python 3"
    },
    "language_info": {
      "name": "python"
    }
  },
  "cells": [
    {
      "cell_type": "markdown",
      "metadata": {
        "id": "view-in-github",
        "colab_type": "text"
      },
      "source": [
        "<a href=\"https://colab.research.google.com/github/marioespinosa-sys/MatBach_Python/blob/main/Lunes24Uno.ipynb\" target=\"_parent\"><img src=\"https://colab.research.google.com/assets/colab-badge.svg\" alt=\"Open In Colab\"/></a>"
      ]
    },
    {
      "cell_type": "code",
      "execution_count": null,
      "metadata": {
        "colab": {
          "base_uri": "https://localhost:8080/"
        },
        "id": "_dge2CEuJnND",
        "outputId": "986172b4-f6e3-436c-bb3e-3c0ba68775aa"
      },
      "outputs": [
        {
          "output_type": "stream",
          "name": "stdout",
          "text": [
            "Aproximación de pi es 3.1416 y ya es buena\n"
          ]
        }
      ],
      "source": [
        "a = 3.1416\n",
        "print('Aproximación de pi es', a , 'y ya es buena')"
      ]
    },
    {
      "cell_type": "code",
      "source": [
        "a = 3.1416\n",
        "print('Aproximación de pi es'+ str(a) + 'y ya es buena')"
      ],
      "metadata": {
        "colab": {
          "base_uri": "https://localhost:8080/"
        },
        "id": "XxywDp6VKroI",
        "outputId": "9ddfc0a3-dc4a-4303-bb73-708ffbe00b9e"
      },
      "execution_count": null,
      "outputs": [
        {
          "output_type": "stream",
          "name": "stdout",
          "text": [
            "Aproximación de pi es3.1416y ya es buena\n"
          ]
        }
      ]
    },
    {
      "cell_type": "code",
      "source": [
        "import math\n",
        "a = math.pi\n",
        "print('Aproximación de pi es'+ str(a) + 'y ya es buena')\n",
        "print(f'Aproximación de pi es {a:.4f} y ya es buena')\n",
        "print(f'Aproximación de pi es {a:.30f} y ya es buena')"
      ],
      "metadata": {
        "colab": {
          "base_uri": "https://localhost:8080/"
        },
        "id": "HDSHibOqK7TF",
        "outputId": "dcf3d4a1-dcad-42f2-a56e-81fc8b379f03"
      },
      "execution_count": null,
      "outputs": [
        {
          "output_type": "stream",
          "name": "stdout",
          "text": [
            "Aproximación de pi es3.141592653589793y ya es buena\n",
            "Aproximación de pi es 3.1416 y ya es buena\n",
            "Aproximación de pi es 3.141592653589793115997963468544 y ya es buena\n"
          ]
        }
      ]
    },
    {
      "cell_type": "code",
      "source": [
        "votos = 123456789\n",
        "padron_electoral = 340123456\n",
        "porcentaje = votos/padron_electoral\n",
        "print('de {:7} votantes solo votaron {:9d} que equivale al {:2.2%} de votantes'.format(padron_electoral, votos, porcentaje))\n",
        "print(resultado)"
      ],
      "metadata": {
        "colab": {
          "base_uri": "https://localhost:8080/"
        },
        "id": "SHE9-rhZLdHQ",
        "outputId": "f3544819-7aa2-4a9d-875f-bf17e3b55e12"
      },
      "execution_count": null,
      "outputs": [
        {
          "output_type": "stream",
          "name": "stdout",
          "text": [
            "de 340123456 votantes solo votaron 123456789 que equivale al 36.30% de votantes\n",
            "0.36297640407370196\n"
          ]
        }
      ]
    }
  ]
}