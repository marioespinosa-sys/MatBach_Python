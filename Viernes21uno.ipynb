{
  "nbformat": 4,
  "nbformat_minor": 0,
  "metadata": {
    "colab": {
      "provenance": [],
      "authorship_tag": "ABX9TyMGWQR3/84frtKv4KcD66oT",
      "include_colab_link": true
    },
    "kernelspec": {
      "name": "python3",
      "display_name": "Python 3"
    },
    "language_info": {
      "name": "python"
    }
  },
  "cells": [
    {
      "cell_type": "markdown",
      "metadata": {
        "id": "view-in-github",
        "colab_type": "text"
      },
      "source": [
        "<a href=\"https://colab.research.google.com/github/marioespinosa-sys/MatBach_Python/blob/main/Viernes21uno.ipynb\" target=\"_parent\"><img src=\"https://colab.research.google.com/assets/colab-badge.svg\" alt=\"Open In Colab\"/></a>"
      ]
    },
    {
      "cell_type": "code",
      "execution_count": null,
      "metadata": {
        "id": "4XoXzl0qjasu"
      },
      "outputs": [],
      "source": []
    },
    {
      "cell_type": "markdown",
      "source": [],
      "metadata": {
        "id": "YuuHxhdZjb0s"
      }
    },
    {
      "cell_type": "code",
      "source": [
        "import numpy as np\n",
        "a = np.array([[2, 3, 4], [2, 6, 8], [4, 9, -4]])\n",
        "b = np.array([3, 5, 4])\n",
        "x = np.linalg.solve(a,b)\n",
        "print(\"La solución del sistema es: \", x)\n"
      ],
      "metadata": {
        "colab": {
          "base_uri": "https://localhost:8080/"
        },
        "id": "sphm4vIejkNP",
        "outputId": "fee6875b-f90a-49b0-ae8d-2074cb512ed4"
      },
      "execution_count": null,
      "outputs": [
        {
          "output_type": "stream",
          "name": "stdout",
          "text": [
            "La solución del sistema es:  [0.5        0.33333333 0.25      ]\n"
          ]
        }
      ]
    },
    {
      "cell_type": "code",
      "source": [
        "import numpy as np\n",
        "a = ([[2, 3, 4], [2, 6, 8], [4, 9, -4]])\n",
        "b = ([3, 5, 4])\n",
        "x = np.linalg.solve(a,b)\n",
        "print(\"La solución del sistema es: \", x)"
      ],
      "metadata": {
        "colab": {
          "base_uri": "https://localhost:8080/"
        },
        "id": "l9G2fa6xkjrO",
        "outputId": "805d48c9-39c7-4dd7-e11b-751eb2ba3402"
      },
      "execution_count": null,
      "outputs": [
        {
          "output_type": "stream",
          "name": "stdout",
          "text": [
            "La solución del sistema es:  [0.5        0.33333333 0.25      ]\n"
          ]
        }
      ]
    },
    {
      "cell_type": "code",
      "source": [
        "from scipy.linalg import solve\n",
        "\n",
        "a2 = ([[2, 3, 4], [2, 6, 8], [4, 9, -4]])\n",
        "b2 = ([3, 5, 4])\n",
        "x = solve(a2, b2)\n",
        "print(\"La solución del sistema es: \", x)"
      ],
      "metadata": {
        "colab": {
          "base_uri": "https://localhost:8080/"
        },
        "id": "cv200Ll7ktWw",
        "outputId": "36aee951-0c5a-4cf3-ab11-2654428eee12"
      },
      "execution_count": null,
      "outputs": [
        {
          "output_type": "stream",
          "name": "stdout",
          "text": [
            "La solución del sistema es:  [0.5        0.33333333 0.25      ]\n"
          ]
        }
      ]
    },
    {
      "cell_type": "code",
      "source": [
        "from sympy import *\n",
        "\n",
        "x, y, z= symbols(\"x, y, z\")\n",
        "\n",
        "linsolve([2*x +3*y + 4*z - 3, 2*x + 6*y + 8*z -5, 4*x + 9*y -4*z -4],[x, y, z])\n"
      ],
      "metadata": {
        "colab": {
          "base_uri": "https://localhost:8080/",
          "height": 58
        },
        "id": "9CII0nwzlcLm",
        "outputId": "005c9772-524d-42e2-a5b2-7e61c7ae59e7"
      },
      "execution_count": null,
      "outputs": [
        {
          "output_type": "execute_result",
          "data": {
            "text/plain": [
              "{(1/2, 1/3, 1/4)}"
            ],
            "text/latex": "$\\displaystyle \\left\\{\\left( \\frac{1}{2}, \\  \\frac{1}{3}, \\  \\frac{1}{4}\\right)\\right\\}$"
          },
          "metadata": {},
          "execution_count": 5
        }
      ]
    },
    {
      "cell_type": "code",
      "source": [
        "from sympy import *\n",
        "\n",
        "x, y, z= symbols(\"x, y, z\")\n",
        "\n",
        "linsolve([1*x + 1*y + 1*z - 72000, 1*x - 1*y + 0*z -8500, 3*x + 3*y -13*z + 0],[x, y, z])\n"
      ],
      "metadata": {
        "colab": {
          "base_uri": "https://localhost:8080/",
          "height": 37
        },
        "id": "U_DNt_9Uni2Z",
        "outputId": "a4ddbdd0-0037-4297-ccde-fdad0a425355"
      },
      "execution_count": null,
      "outputs": [
        {
          "output_type": "execute_result",
          "data": {
            "text/plain": [
              "{(33500, 25000, 13500)}"
            ],
            "text/latex": "$\\displaystyle \\left\\{\\left( 33500, \\  25000, \\  13500\\right)\\right\\}$"
          },
          "metadata": {},
          "execution_count": 8
        }
      ]
    },
    {
      "cell_type": "code",
      "source": [
        "from sympy import *\n",
        "\n",
        "x, y, z= symbols(\"x, y, z\")\n",
        "\n",
        "linsolve([1*x + 1*y + 1*z - 72000, 1*x - 1*y + 0*z -8500, (3/13)*x + (3/13)*y -1*z + 0],[x, y, z])"
      ],
      "metadata": {
        "colab": {
          "base_uri": "https://localhost:8080/",
          "height": 37
        },
        "id": "BISTBAKeoAro",
        "outputId": "6168f50a-58c8-4418-f32c-2e9c3396cfa6"
      },
      "execution_count": null,
      "outputs": [
        {
          "output_type": "execute_result",
          "data": {
            "text/plain": [
              "{(33500.0, 25000.0, 13500.0)}"
            ],
            "text/latex": "$\\displaystyle \\left\\{\\left( 33500.0, \\  25000.0, \\  13500.0\\right)\\right\\}$"
          },
          "metadata": {},
          "execution_count": 10
        }
      ]
    },
    {
      "cell_type": "code",
      "source": [
        "from sympy import *\n",
        "\n",
        "x, y= symbols(\"x, y\")\n",
        "\n",
        "linsolve([(16/13)*x + (16/13)*y - 72000, 1*x - 1*y -8500],[x, y])"
      ],
      "metadata": {
        "colab": {
          "base_uri": "https://localhost:8080/",
          "height": 37
        },
        "id": "17rlGVSuq2QG",
        "outputId": "51d4b0e8-15ae-484e-adb4-fc63b80ab2fb"
      },
      "execution_count": null,
      "outputs": [
        {
          "output_type": "execute_result",
          "data": {
            "text/plain": [
              "{(33500.0, 25000.0)}"
            ],
            "text/latex": "$\\displaystyle \\left\\{\\left( 33500.0, \\  25000.0\\right)\\right\\}$"
          },
          "metadata": {},
          "execution_count": 11
        }
      ]
    }
  ]
}