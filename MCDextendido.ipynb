{
  "nbformat": 4,
  "nbformat_minor": 0,
  "metadata": {
    "colab": {
      "provenance": [],
      "authorship_tag": "ABX9TyMqZr5pK4d45Qv1RF0ZGU7I",
      "include_colab_link": true
    },
    "kernelspec": {
      "name": "python3",
      "display_name": "Python 3"
    },
    "language_info": {
      "name": "python"
    }
  },
  "cells": [
    {
      "cell_type": "markdown",
      "metadata": {
        "id": "view-in-github",
        "colab_type": "text"
      },
      "source": [
        "<a href=\"https://colab.research.google.com/github/marioespinosa-sys/MatBach_Python/blob/main/MCDextendido.ipynb\" target=\"_parent\"><img src=\"https://colab.research.google.com/assets/colab-badge.svg\" alt=\"Open In Colab\"/></a>"
      ]
    },
    {
      "cell_type": "code",
      "execution_count": null,
      "metadata": {
        "colab": {
          "base_uri": "https://localhost:8080/"
        },
        "id": "PxwE6lTZQHEx",
        "outputId": "15c57a47-0e89-4363-aebe-b8eed4a7e694"
      },
      "outputs": [
        {
          "output_type": "stream",
          "name": "stdout",
          "text": [
            "Introduce un primer número entero = -72\n",
            "Introduce un segundo número entero = -54\n",
            "El MCD de -54 y -72 es 18\n"
          ]
        }
      ],
      "source": [
        "a = int(input(\"Introduce un primer número entero = \"))\n",
        "b = int(input(\"Introduce un segundo número entero = \"))\n",
        "\n",
        "if b > a:\n",
        "  c = a\n",
        "  a = b\n",
        "  b = c\n",
        "\n",
        "num1 = a\n",
        "num2 = b\n",
        "\n",
        "q = a // b\n",
        "r = a - b*q\n",
        "\n",
        "while r !=0:\n",
        "  a = b\n",
        "  b = r\n",
        "  q = a // b\n",
        "  r = a - b*q\n",
        "\n",
        "  if b < 0:\n",
        "    b=b*(-1)\n",
        "print(\"El MCD de\", num1, \"y\", num2, \"es\", b)"
      ]
    },
    {
      "cell_type": "markdown",
      "source": [
        "nueva versión"
      ],
      "metadata": {
        "id": "TRAKUl7PTPij"
      }
    },
    {
      "cell_type": "code",
      "source": [
        "a = int(input(\"Introduce un primer número entero = \"))\n",
        "b = int(input(\"Introduce un segundo número entero = \"))\n",
        "\n",
        "q = a // b\n",
        "r = a - b*q\n",
        "\n",
        "while r !=0:\n",
        "  a = b\n",
        "  b = r\n",
        "  q = a // b\n",
        "  r = a - b*q\n",
        "\n",
        "print(\"El MCD de\", a, \"y\", b, \"es\", b)"
      ],
      "metadata": {
        "colab": {
          "base_uri": "https://localhost:8080/"
        },
        "id": "VIGdnKT5TR7z",
        "outputId": "0a841435-4290-4b5d-e87a-c00e6ecfda1a"
      },
      "execution_count": null,
      "outputs": [
        {
          "output_type": "stream",
          "name": "stdout",
          "text": [
            "Introduce un primer número entero = 516\n",
            "Introduce un segundo número entero = 52\n",
            "El MCD de 48 y 4 es 4\n"
          ]
        }
      ]
    }
  ]
}