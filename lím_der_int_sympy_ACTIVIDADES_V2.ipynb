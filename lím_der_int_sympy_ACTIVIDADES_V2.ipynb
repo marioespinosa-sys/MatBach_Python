{
  "nbformat": 4,
  "nbformat_minor": 0,
  "metadata": {
    "colab": {
      "provenance": [],
      "authorship_tag": "ABX9TyNlaK1szuQ4g1yZnCUzuTeR",
      "include_colab_link": true
    },
    "kernelspec": {
      "name": "python3",
      "display_name": "Python 3"
    },
    "language_info": {
      "name": "python"
    }
  },
  "cells": [
    {
      "cell_type": "markdown",
      "metadata": {
        "id": "view-in-github",
        "colab_type": "text"
      },
      "source": [
        "<a href=\"https://colab.research.google.com/github/marioespinosa-sys/MatBach_Python/blob/main/l%C3%ADm_der_int_sympy_ACTIVIDADES_V2.ipynb\" target=\"_parent\"><img src=\"https://colab.research.google.com/assets/colab-badge.svg\" alt=\"Open In Colab\"/></a>"
      ]
    },
    {
      "cell_type": "markdown",
      "source": [
        "Límites"
      ],
      "metadata": {
        "id": "2mMTbdcSjugm"
      }
    },
    {
      "cell_type": "code",
      "source": [
        "from sympy import symbols, limit, sin\n",
        "x = symbols('x')\n",
        "limf = limit(sin(x), x, 4)\n",
        "print(\"El límite es: \", limf)\n",
        "print()\n",
        "print(\"El límite evaluado es: \", limf.evalf())\n"
      ],
      "metadata": {
        "colab": {
          "base_uri": "https://localhost:8080/"
        },
        "id": "_ZTo8otxj6Je",
        "outputId": "1f7c09ed-04d4-4787-d3a6-57db91b99b8b"
      },
      "execution_count": null,
      "outputs": [
        {
          "output_type": "stream",
          "name": "stdout",
          "text": [
            "El límite es:  sin(4)\n",
            "\n",
            "El límite evaluado es:  -0.756802495307928\n"
          ]
        }
      ]
    },
    {
      "cell_type": "code",
      "source": [
        "from sympy import symbols, limit, sqrt\n",
        "x = symbols('x')\n",
        "fx = sqrt(x-1)\n",
        "limf = limit(fx, x, 1, '+')\n",
        "print(\"El límite es: \", limf)\n",
        "print()\n"
      ],
      "metadata": {
        "colab": {
          "base_uri": "https://localhost:8080/"
        },
        "id": "yFTLQ6JrlJ4l",
        "outputId": "c448868b-eddf-4266-fee2-4831e52d907e"
      },
      "execution_count": null,
      "outputs": [
        {
          "output_type": "stream",
          "name": "stdout",
          "text": [
            "El límite es:  0\n",
            "\n"
          ]
        }
      ]
    },
    {
      "cell_type": "markdown",
      "source": [
        "Actividad.\n",
        "Problema Interprepas Matemáticas VI área 2"
      ],
      "metadata": {
        "id": "Dsui_-a0m859"
      }
    },
    {
      "cell_type": "code",
      "source": [
        "from sympy import symbols, limit, sqrt\n",
        "x = symbols('x')\n",
        "fx = ((x**2-4)/(sqrt(x+7) - (3/2)*sqrt(x+2)))\n",
        "limf = limit(fx, x, 2, '+')\n",
        "print(\"El límite es: \", limf)\n",
        "print()"
      ],
      "metadata": {
        "colab": {
          "base_uri": "https://localhost:8080/"
        },
        "id": "z1x2YWE6m_g9",
        "outputId": "1121068d-11c6-4d5b-d48a-efae5c0d4bb2"
      },
      "execution_count": 34,
      "outputs": [
        {
          "output_type": "stream",
          "name": "stdout",
          "text": [
            "El límite es:  -96/5\n",
            "\n"
          ]
        }
      ]
    },
    {
      "cell_type": "markdown",
      "source": [
        "Derivada"
      ],
      "metadata": {
        "id": "_-IB4f6to4p8"
      }
    },
    {
      "cell_type": "code",
      "source": [
        "from sympy import symbols, diff, sin, exp\n",
        "x = symbols('x')\n",
        "dx = diff(sin(x)/x, x)\n",
        "print(\"La derivada es: \", dx)\n",
        "dxEval = dx.subs(x, 4).evalf()\n",
        "print(\"La derivada evaluada es: \", dxEval)\n",
        "print()\n",
        "#evaluando en los puntos críticos\n",
        "puntoEvaluacion = 0\n",
        "dxEval = dx.subs(x, puntoEvaluacion).evalf()\n",
        "print(\"La derivada evaluada en x = {0} es: {1}\".format(puntoEvaluacion, dxEval))"
      ],
      "metadata": {
        "colab": {
          "base_uri": "https://localhost:8080/"
        },
        "id": "8cN1Z45po2MH",
        "outputId": "9a37c083-566b-4d9b-ffcd-ed42340a3030"
      },
      "execution_count": null,
      "outputs": [
        {
          "output_type": "stream",
          "name": "stdout",
          "text": [
            "La derivada es:  cos(x)/x - sin(x)/x**2\n",
            "La derivada evaluada es:  -0.116110749259157\n",
            "\n",
            "La derivada evaluada en x = 0 es: nan\n"
          ]
        }
      ]
    },
    {
      "cell_type": "markdown",
      "source": [
        "Problema Interpreparatorianos Matemáticas VI área 1"
      ],
      "metadata": {
        "id": "YX0HYC-jqJ92"
      }
    },
    {
      "cell_type": "code",
      "source": [
        "from sympy import symbols, diff, sin, exp, ln\n",
        "\n",
        "x = symbols('x')\n",
        "fx = ln(4**(7*x**2)/(5*exp(3*x**5)))\n",
        "dx = diff(fx ,x)\n",
        "print(\"La derivada es: \\n {0} \\n={1} \".format(dx, dx.simplify()))"
      ],
      "metadata": {
        "colab": {
          "base_uri": "https://localhost:8080/"
        },
        "id": "qJyOJArIqQiT",
        "outputId": "ab3e2e26-7623-4301-d737-626c3065a16c"
      },
      "execution_count": null,
      "outputs": [
        {
          "output_type": "stream",
          "name": "stdout",
          "text": [
            "La derivada es: \n",
            " 5*(-3*4**(7*x**2)*x**4*exp(-3*x**5) + 14*4**(7*x**2)*x*exp(-3*x**5)*log(4)/5)*exp(3*x**5)/4**(7*x**2) \n",
            "=-15*x**4 + 28*x*log(2) \n"
          ]
        }
      ]
    },
    {
      "cell_type": "markdown",
      "source": [
        "Problema Interpreparatorianos Matemáticas VI área 1.\n",
        "Con formato de impresión de datos estilo Latex y simplificado."
      ],
      "metadata": {
        "id": "PIzYmY31sbx-"
      }
    },
    {
      "cell_type": "code",
      "source": [
        "from IPython.display import display, Latex\n",
        "from sympy import symbols, diff, sin, exp, ln, latex, Derivative, init_printing\n",
        "init_printing(use_latex = 'mathjax')\n",
        "\n",
        "x = symbols('x')\n",
        "derv_x = Derivative(ln(4**(7*x**2)/(5*exp(3*x**5))), x)\n",
        "\n",
        "print(\"La derivada es:\\n\")\n",
        "result =\"$${} = {} = {}$$\".format(latex(derv_x),latex(derv_x.doit()),latex(derv_x.doit().simplify()))\n",
        "derv_x.doit().subs(x, 0)\n",
        "display(Latex(result))\n",
        "#Evaluando en puntos particulares\n",
        "puntoEvaluacion = 0\n",
        "dxEval = derv_x.doit().subs(x, puntoEvaluacion).evalf()\n",
        "print(\"La derivada evaluada en x = {0} es: {1}\".format(puntoEvaluacion, dxEval))\n",
        "\n"
      ],
      "metadata": {
        "colab": {
          "base_uri": "https://localhost:8080/",
          "height": 134
        },
        "id": "jmUW0hf9skoX",
        "outputId": "5366d70b-c80a-4789-ceaa-b3c9953a42df"
      },
      "execution_count": null,
      "outputs": [
        {
          "output_type": "stream",
          "name": "stdout",
          "text": [
            "La derivada es:\n",
            "\n"
          ]
        },
        {
          "output_type": "display_data",
          "data": {
            "text/plain": [
              "<IPython.core.display.Latex object>"
            ],
            "text/latex": "$$\\frac{d}{d x} \\log{\\left(\\frac{4^{7 x^{2}} e^{- 3 x^{5}}}{5} \\right)} = 5 \\cdot 4^{- 7 x^{2}} \\left(- 3 \\cdot 4^{7 x^{2}} x^{4} e^{- 3 x^{5}} + \\frac{14 \\cdot 4^{7 x^{2}} x e^{- 3 x^{5}} \\log{\\left(4 \\right)}}{5}\\right) e^{3 x^{5}} = - 15 x^{4} + 28 x \\log{\\left(2 \\right)}$$"
          },
          "metadata": {}
        },
        {
          "output_type": "stream",
          "name": "stdout",
          "text": [
            "La derivada evaluada en x = 0 es: 0\n"
          ]
        }
      ]
    },
    {
      "cell_type": "markdown",
      "source": [
        "ACTIVIDAD.\n",
        "Encunetre la derevada de:"
      ],
      "metadata": {
        "id": "NcamX54BwsLb"
      }
    },
    {
      "cell_type": "code",
      "source": [
        "from IPython.display import display, Latex\n",
        "from sympy import symbols, diff, sin, tan, exp, ln, latex, Derivative, init_printing\n",
        "init_printing(use_latex = 'mathjax')\n",
        "\n",
        "x = symbols('x')\n",
        "derv_x = Derivative(tan(exp(2/sin(x))/(4*x))**sqrt(x), x)\n",
        "\n",
        "\n",
        "print(\"La derivada es:\\n\")\n",
        "result =\"$${} = {} = {}$$\".format(latex(derv_x),latex(derv_x.doit()),latex(derv_x.doit().simplify()))\n",
        "derv_x.doit().subs(x, 0)\n",
        "display(Latex(result))\n",
        "#Evaluando en puntos particulares\n",
        "puntoEvaluacion = 1\n",
        "dxEval = derv_x.doit().subs(x, puntoEvaluacion).evalf()\n",
        "print(\"La derivada evaluada en x = {0} es: {1}\".format(puntoEvaluacion, dxEval))"
      ],
      "metadata": {
        "colab": {
          "base_uri": "https://localhost:8080/",
          "height": 297
        },
        "id": "l16IFtBHw54r",
        "outputId": "a2275d66-d5ce-4ca6-8a1e-c0a19736b80d"
      },
      "execution_count": null,
      "outputs": [
        {
          "output_type": "stream",
          "name": "stdout",
          "text": [
            "La derivada es:\n",
            "\n"
          ]
        },
        {
          "output_type": "display_data",
          "data": {
            "text/plain": [
              "<IPython.core.display.Latex object>"
            ],
            "text/latex": "$$\\frac{d}{d x} \\tan^{\\sqrt{x}}{\\left(\\frac{e^{\\frac{2}{\\sin{\\left(x \\right)}}}}{4 x} \\right)} = \\left(\\frac{\\sqrt{x} \\left(- \\frac{e^{\\frac{2}{\\sin{\\left(x \\right)}}} \\cos{\\left(x \\right)}}{2 x \\sin^{2}{\\left(x \\right)}} - \\frac{e^{\\frac{2}{\\sin{\\left(x \\right)}}}}{4 x^{2}}\\right) \\left(\\tan^{2}{\\left(\\frac{e^{\\frac{2}{\\sin{\\left(x \\right)}}}}{4 x} \\right)} + 1\\right)}{\\tan{\\left(\\frac{e^{\\frac{2}{\\sin{\\left(x \\right)}}}}{4 x} \\right)}} + \\frac{\\log{\\left(\\tan{\\left(\\frac{e^{\\frac{2}{\\sin{\\left(x \\right)}}}}{4 x} \\right)} \\right)}}{2 \\sqrt{x}}\\right) \\tan^{\\sqrt{x}}{\\left(\\frac{e^{\\frac{2}{\\sin{\\left(x \\right)}}}}{4 x} \\right)} = \\frac{\\left(2 x \\log{\\left(\\tan{\\left(\\frac{e^{\\frac{2}{\\sin{\\left(x \\right)}}}}{4 x} \\right)} \\right)} \\sin^{2}{\\left(x \\right)} \\tan{\\left(\\frac{e^{\\frac{2}{\\sin{\\left(x \\right)}}}}{4 x} \\right)} - \\frac{\\left(2 x \\cos{\\left(x \\right)} + \\sin^{2}{\\left(x \\right)}\\right) e^{\\frac{2}{\\sin{\\left(x \\right)}}}}{\\cos^{2}{\\left(\\frac{e^{\\frac{2}{\\sin{\\left(x \\right)}}}}{4 x} \\right)}}\\right) \\tan^{\\sqrt{x} - 1}{\\left(\\frac{e^{\\frac{2}{\\sin{\\left(x \\right)}}}}{4 x} \\right)}}{4 x^{\\frac{3}{2}} \\sin^{2}{\\left(x \\right)}}$$"
          },
          "metadata": {}
        },
        {
          "output_type": "stream",
          "name": "stdout",
          "text": [
            "La derivada evaluada en x = 1 es: -8.20508125410138 - 0.756890019429914*I\n"
          ]
        }
      ]
    },
    {
      "cell_type": "markdown",
      "source": [
        "Integrales"
      ],
      "metadata": {
        "id": "ubnPA3cr1yOG"
      }
    },
    {
      "cell_type": "code",
      "source": [
        "# usando la función integral\n",
        "from sympy import symbols, Integral, sin\n",
        "\n",
        "x = symbols('x')\n",
        "intsen = Integral(sin(x), (x, -1, 1))\n",
        "print(\"El resultado es: \", intsen.evalf())\n"
      ],
      "metadata": {
        "colab": {
          "base_uri": "https://localhost:8080/"
        },
        "id": "j-YO8WCy13Hu",
        "outputId": "2e2e96b2-f879-43bb-aef5-4770264e2da3"
      },
      "execution_count": null,
      "outputs": [
        {
          "output_type": "stream",
          "name": "stdout",
          "text": [
            "El resultado es:  0.e-100\n"
          ]
        }
      ]
    },
    {
      "cell_type": "code",
      "source": [
        "# Usando la función integrate\n",
        "\n",
        "from sympy import symbols, integrate, exp, oo\n",
        "\n",
        "x = symbols('x')\n",
        "print(integrate(exp(-x), (x, 0, oo)))"
      ],
      "metadata": {
        "colab": {
          "base_uri": "https://localhost:8080/"
        },
        "id": "DiqJzDJB3CC-",
        "outputId": "b089ee26-adc2-420b-8cc8-6eb72e27bc36"
      },
      "execution_count": null,
      "outputs": [
        {
          "output_type": "stream",
          "name": "stdout",
          "text": [
            "1\n"
          ]
        }
      ]
    },
    {
      "cell_type": "markdown",
      "source": [
        "ACTIVIDAD\n",
        "encuentre la integral de"
      ],
      "metadata": {
        "id": "EG9mEVHp3qfA"
      }
    },
    {
      "cell_type": "code",
      "source": [
        "from sympy import symbols, integrate, exp, oo\n",
        "\n",
        "x = symbols('x')\n",
        "print(integrate((-1)**(1/sqrt(1+x**3)), (x, -1, 1)))"
      ],
      "metadata": {
        "colab": {
          "base_uri": "https://localhost:8080/"
        },
        "id": "rAIHtUZy3swS",
        "outputId": "0d79c3b8-d759-49e7-864a-2d2866477996"
      },
      "execution_count": null,
      "outputs": [
        {
          "output_type": "stream",
          "name": "stdout",
          "text": [
            "Integral((-1)**(1/sqrt(x**3 + 1)), (x, -1, 1))\n"
          ]
        }
      ]
    },
    {
      "cell_type": "code",
      "source": [
        "from sympy import symbols, Integral, sin\n",
        "\n",
        "x = symbols('x')\n",
        "intsen = Integral((-1)**(1/sqrt(1+x**3)), (x, -1, 1))\n",
        "print(\"El resultado es: \", intsen.evalf())"
      ],
      "metadata": {
        "colab": {
          "base_uri": "https://localhost:8080/"
        },
        "id": "lRLPsixB4zAC",
        "outputId": "6356831d-cd3b-477b-a9fa-90dac3b9c1d7"
      },
      "execution_count": null,
      "outputs": [
        {
          "output_type": "stream",
          "name": "stdout",
          "text": [
            "El resultado es:  -1.597 + 0.01507*I\n"
          ]
        }
      ]
    }
  ]
}