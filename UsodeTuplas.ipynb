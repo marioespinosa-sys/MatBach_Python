{
  "nbformat": 4,
  "nbformat_minor": 0,
  "metadata": {
    "colab": {
      "provenance": [],
      "authorship_tag": "ABX9TyP4fOuEdiR7u9EC68wsxWM1",
      "include_colab_link": true
    },
    "kernelspec": {
      "name": "python3",
      "display_name": "Python 3"
    },
    "language_info": {
      "name": "python"
    }
  },
  "cells": [
    {
      "cell_type": "markdown",
      "metadata": {
        "id": "view-in-github",
        "colab_type": "text"
      },
      "source": [
        "<a href=\"https://colab.research.google.com/github/marioespinosa-sys/MatBach_Python/blob/main/UsodeTuplas.ipynb\" target=\"_parent\"><img src=\"https://colab.research.google.com/assets/colab-badge.svg\" alt=\"Open In Colab\"/></a>"
      ]
    },
    {
      "cell_type": "markdown",
      "source": [
        "Actividad:\n",
        "Buscarfunciones que se puedan aplicar a las tuplas y poner un ejemplo de cómo funcionan."
      ],
      "metadata": {
        "id": "QFzuLFJHQGJ9"
      }
    },
    {
      "cell_type": "code",
      "source": [
        "# ejercicio 1\n",
        "import math\n",
        "import sympy\n",
        "puntoA = (4,5)\n",
        "puntoB = (-2,6)\n",
        "\n",
        "distancia = sympy.sqrt((puntoA[0]-puntoB[0])**2 + (puntoA[1]-puntoB[1])**2)\n",
        "print(\"La distancia entre los puntos A y B es\", distancia)\n",
        "\n",
        "pendiente = (puntoA[1]-puntoB[1])/(puntoA[0]-puntoB[0])\n",
        "print(\"La pendiente entre los puntos A y B es\", pendiente)\n",
        "\n",
        "ángulo = (math.degrees(pendiente))\n",
        "print(\"El ángulo de inclinación entre los puntos A y B es\", ángulo)\n",
        "\n",
        "puntomedio = ((puntoA[0]+puntoB[0])/2, (puntoA[1]+puntoB[1])/2)\n",
        "print(\"El punto medio entre los puntos A y B es\", puntomedio)\n"
      ],
      "metadata": {
        "colab": {
          "base_uri": "https://localhost:8080/"
        },
        "id": "1l8_nADRV-i7",
        "outputId": "11bfc821-8063-468e-d6b9-7f30a822ab54"
      },
      "execution_count": 34,
      "outputs": [
        {
          "output_type": "stream",
          "name": "stdout",
          "text": [
            "La distancia entre los puntos A y B es sqrt(37)\n",
            "La pendiente entre los puntos A y B es -0.16666666666666666\n",
            "El ángulo de inclinación entre los puntos A y B es -9.54929658551372\n",
            "El punto medio entre los puntos A y B es (1.0, 5.5)\n"
          ]
        }
      ]
    }
  ]
}