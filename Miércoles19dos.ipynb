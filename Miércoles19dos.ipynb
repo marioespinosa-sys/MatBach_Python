{
  "nbformat": 4,
  "nbformat_minor": 0,
  "metadata": {
    "colab": {
      "provenance": [],
      "authorship_tag": "ABX9TyNMOYoJlTsHRdLg67O2ebtS",
      "include_colab_link": true
    },
    "kernelspec": {
      "name": "python3",
      "display_name": "Python 3"
    },
    "language_info": {
      "name": "python"
    }
  },
  "cells": [
    {
      "cell_type": "markdown",
      "metadata": {
        "id": "view-in-github",
        "colab_type": "text"
      },
      "source": [
        "<a href=\"https://colab.research.google.com/github/marioespinosa-sys/MatBach_Python/blob/main/Mi%C3%A9rcoles19dos.ipynb\" target=\"_parent\"><img src=\"https://colab.research.google.com/assets/colab-badge.svg\" alt=\"Open In Colab\"/></a>"
      ]
    },
    {
      "cell_type": "code",
      "execution_count": null,
      "metadata": {
        "id": "ir1nxvRyhvFX"
      },
      "outputs": [],
      "source": []
    },
    {
      "cell_type": "markdown",
      "source": [
        "Tipo Boolean() - True-False-\n",
        "Operaciones lógicas y de comparación"
      ],
      "metadata": {
        "id": "SHl1pQzwh0_C"
      }
    },
    {
      "cell_type": "code",
      "source": [
        "prop1 = True\n",
        "prop2 = False"
      ],
      "metadata": {
        "id": "EylbjDAAh-Yd"
      },
      "execution_count": null,
      "outputs": []
    },
    {
      "cell_type": "code",
      "source": [
        "print(not prop2)"
      ],
      "metadata": {
        "colab": {
          "base_uri": "https://localhost:8080/"
        },
        "id": "Q0eueMZ9iFmf",
        "outputId": "0844c825-981e-45d5-d24a-5e9754cb5d87"
      },
      "execution_count": null,
      "outputs": [
        {
          "output_type": "stream",
          "name": "stdout",
          "text": [
            "True\n"
          ]
        }
      ]
    },
    {
      "cell_type": "code",
      "source": [
        "print(prop1 and prop2)"
      ],
      "metadata": {
        "colab": {
          "base_uri": "https://localhost:8080/"
        },
        "id": "0fDvl3miiRdQ",
        "outputId": "ef55a389-2dcd-4465-81fc-2fe4d056e943"
      },
      "execution_count": null,
      "outputs": [
        {
          "output_type": "stream",
          "name": "stdout",
          "text": [
            "False\n"
          ]
        }
      ]
    },
    {
      "cell_type": "code",
      "source": [
        "print(prop1 or prop2)"
      ],
      "metadata": {
        "colab": {
          "base_uri": "https://localhost:8080/"
        },
        "id": "o_9gpMafiVpg",
        "outputId": "ef8473ae-7a0d-4c86-c7dd-fe5f72324888"
      },
      "execution_count": null,
      "outputs": [
        {
          "output_type": "stream",
          "name": "stdout",
          "text": [
            "True\n"
          ]
        }
      ]
    },
    {
      "cell_type": "code",
      "source": [
        "print(prop1 and not prop2)"
      ],
      "metadata": {
        "colab": {
          "base_uri": "https://localhost:8080/"
        },
        "id": "Ofj6xY-yjEZd",
        "outputId": "12b10769-0f8c-4bfa-d4dd-237aa5c97e41"
      },
      "execution_count": null,
      "outputs": [
        {
          "output_type": "stream",
          "name": "stdout",
          "text": [
            "True\n"
          ]
        }
      ]
    },
    {
      "cell_type": "markdown",
      "source": [],
      "metadata": {
        "id": "NtgzzFrXiD3G"
      }
    },
    {
      "cell_type": "code",
      "source": [
        "U = {1,2,3,4,5,6,7,8,9,10,11,12,13,14,15,16,17,18,19,20}\n",
        "Uf = { x for x in range (1,21)}\n",
        "conjuntovacio = set()\n",
        "print(U)\n",
        "print(Uf)"
      ],
      "metadata": {
        "colab": {
          "base_uri": "https://localhost:8080/"
        },
        "id": "Wm2TWqZ8lnf-",
        "outputId": "e37a8349-fa50-439a-b759-5515341ff7a8"
      },
      "execution_count": null,
      "outputs": [
        {
          "output_type": "stream",
          "name": "stdout",
          "text": [
            "{1, 2, 3, 4, 5, 6, 7, 8, 9, 10, 11, 12, 13, 14, 15, 16, 17, 18, 19, 20}\n",
            "{1, 2, 3, 4, 5, 6, 7, 8, 9, 10, 11, 12, 13, 14, 15, 16, 17, 18, 19, 20}\n"
          ]
        }
      ]
    },
    {
      "cell_type": "markdown",
      "source": [
        "Conjunto A de números x tal que x par; x<10"
      ],
      "metadata": {
        "id": "WcOr2Yh5mN9V"
      }
    },
    {
      "cell_type": "code",
      "source": [
        "A = {x for x in Uf if x%2 == 0 and x < 10}\n",
        "print(A)"
      ],
      "metadata": {
        "colab": {
          "base_uri": "https://localhost:8080/"
        },
        "id": "_Bz_NU_ymVOm",
        "outputId": "b9f18962-9076-4089-b431-913880918f58"
      },
      "execution_count": null,
      "outputs": [
        {
          "output_type": "stream",
          "name": "stdout",
          "text": [
            "{8, 2, 4, 6}\n"
          ]
        }
      ]
    },
    {
      "cell_type": "markdown",
      "source": [
        "Conjunto B de números x tal x%2 == 0 and x<10"
      ],
      "metadata": {
        "id": "Xh3XVgGFmxcL"
      }
    },
    {
      "cell_type": "code",
      "source": [
        "B = {x for x in Uf if x%2 != 0 and x < 10}\n",
        "print(B)"
      ],
      "metadata": {
        "colab": {
          "base_uri": "https://localhost:8080/"
        },
        "id": "jkPwh4ucm66d",
        "outputId": "28358010-a611-4a64-f916-127428d759c9"
      },
      "execution_count": null,
      "outputs": [
        {
          "output_type": "stream",
          "name": "stdout",
          "text": [
            "{1, 3, 5, 7, 9}\n"
          ]
        }
      ]
    },
    {
      "cell_type": "markdown",
      "source": [
        "Conjunto E de  números x tal que x tiene un solo dígito"
      ],
      "metadata": {
        "id": "CPC_24ELnmY2"
      }
    },
    {
      "cell_type": "code",
      "source": [
        "E = {x for x in Uf if x < 10}\n",
        "print(E)"
      ],
      "metadata": {
        "colab": {
          "base_uri": "https://localhost:8080/"
        },
        "id": "PvN6FdnXnub2",
        "outputId": "5fad8f39-6e9f-4113-809f-dc5b8e74ee7f"
      },
      "execution_count": null,
      "outputs": [
        {
          "output_type": "stream",
          "name": "stdout",
          "text": [
            "{1, 2, 3, 4, 5, 6, 7, 8, 9}\n"
          ]
        }
      ]
    },
    {
      "cell_type": "markdown",
      "source": [
        "Conjunto G de números x tal que 2 < x <= 6"
      ],
      "metadata": {
        "id": "UiYBxj_cn-gB"
      }
    },
    {
      "cell_type": "code",
      "source": [
        "G = {x for x in range (3,7)}\n",
        "print(G)"
      ],
      "metadata": {
        "colab": {
          "base_uri": "https://localhost:8080/"
        },
        "id": "GrpIs1IFn87h",
        "outputId": "c30d5229-a2db-4ad9-cb29-e7bd73162928"
      },
      "execution_count": null,
      "outputs": [
        {
          "output_type": "stream",
          "name": "stdout",
          "text": [
            "{3, 4, 5, 6}\n"
          ]
        }
      ]
    },
    {
      "cell_type": "markdown",
      "source": [
        "pendiente (E^C)^c unión (A - G)^C\\"
      ],
      "metadata": {
        "id": "sdBCZMgfo03m"
      }
    },
    {
      "cell_type": "code",
      "source": [
        "Ec = Uf - E\n",
        "Ecc = Uf - Ec\n",
        "AminG = A - G\n",
        "AminGc = Uf - AminG\n",
        "resultado = AminGc and Ecc\n",
        "print(Ecc)\n",
        "print(AminG)\n",
        "print(AminGc)\n",
        "print(resultado)"
      ],
      "metadata": {
        "colab": {
          "base_uri": "https://localhost:8080/"
        },
        "id": "PC1si4oKpC9X",
        "outputId": "af04a0ec-e5ee-4e3b-b197-a1962f31d200"
      },
      "execution_count": null,
      "outputs": [
        {
          "output_type": "stream",
          "name": "stdout",
          "text": [
            "{1, 2, 3, 4, 5, 6, 7, 8, 9}\n",
            "{8, 2}\n",
            "{1, 3, 4, 5, 6, 7, 9, 10, 11, 12, 13, 14, 15, 16, 17, 18, 19, 20}\n",
            "{1, 2, 3, 4, 5, 6, 7, 8, 9}\n"
          ]
        }
      ]
    }
  ]
}