{
  "nbformat": 4,
  "nbformat_minor": 0,
  "metadata": {
    "colab": {
      "provenance": [],
      "authorship_tag": "ABX9TyM5WFI8DFDW+MXhsMbStcIw",
      "include_colab_link": true
    },
    "kernelspec": {
      "name": "python3",
      "display_name": "Python 3"
    },
    "language_info": {
      "name": "python"
    }
  },
  "cells": [
    {
      "cell_type": "markdown",
      "metadata": {
        "id": "view-in-github",
        "colab_type": "text"
      },
      "source": [
        "<a href=\"https://colab.research.google.com/github/marioespinosa-sys/MatBach_Python/blob/main/Tarea2viernes.ipynb\" target=\"_parent\"><img src=\"https://colab.research.google.com/assets/colab-badge.svg\" alt=\"Open In Colab\"/></a>"
      ]
    },
    {
      "cell_type": "code",
      "execution_count": null,
      "metadata": {
        "colab": {
          "base_uri": "https://localhost:8080/"
        },
        "id": "z0Hydot3bU5L",
        "outputId": "fd6caf6f-ed00-4182-f6a2-1a6fef1b87da"
      },
      "outputs": [
        {
          "output_type": "stream",
          "name": "stdout",
          "text": [
            "\u001b[1mOrdenado por proximidad al Sol:\u001b[0m\n",
            "El planeta Sol tiene un diámetro de 1392000 km.\n",
            "El planeta Mercurio tiene un diámetro de 4879 km.\n",
            "El planeta Venus tiene un diámetro de 12092 km.\n",
            "El planeta Tierra tiene un diámetro de 12756 km.\n",
            "El planeta Marte tiene un diámetro de 6779 km.\n",
            "El planeta Júpiter tiene un diámetro de 142984 km.\n",
            "El planeta Saturno tiene un diámetro de 120536 km.\n",
            "El planeta Urano tiene un diámetro de 51118 km.\n",
            "El planeta Plutón tiene un diámetro de 2376.6 km.\n",
            "\n",
            "\u001b[1mOrdenado alfabético ascendente:\u001b[0m\n",
            "El planeta Júpiter tiene un diámetro de 142984 km.\n",
            "El planeta Marte tiene un diámetro de 6779 km.\n",
            "El planeta Mercurio tiene un diámetro de 4879 km.\n",
            "El planeta Plutón tiene un diámetro de 2376.6 km.\n",
            "El planeta Saturno tiene un diámetro de 120536 km.\n",
            "El planeta Sol tiene un diámetro de 1392000 km.\n",
            "El planeta Tierra tiene un diámetro de 12756 km.\n",
            "El planeta Urano tiene un diámetro de 51118 km.\n",
            "El planeta Venus tiene un diámetro de 12092 km.\n",
            "\n",
            "\u001b[1mOrdenado alfabético descendente:\u001b[0m\n",
            "El planeta Venus tiene un diámetro de 12092 km.\n",
            "El planeta Urano tiene un diámetro de 51118 km.\n",
            "El planeta Tierra tiene un diámetro de 12756 km.\n",
            "El planeta Sol tiene un diámetro de 1392000 km.\n",
            "El planeta Saturno tiene un diámetro de 120536 km.\n",
            "El planeta Plutón tiene un diámetro de 2376.6 km.\n",
            "El planeta Mercurio tiene un diámetro de 4879 km.\n",
            "El planeta Marte tiene un diámetro de 6779 km.\n",
            "El planeta Júpiter tiene un diámetro de 142984 km.\n",
            "\n"
          ]
        }
      ],
      "source": [
        "print(\"\\033[1mOrdenado por proximidad al Sol:\\033[0m\")\n",
        "ssDiametro = {\"Sol\": 1392000, \"Mercurio\": 4879, \"Venus\": 12092, \"Tierra\": 12756, \"Marte\": 6779, \"Júpiter\": 142984, \"Saturno\": 120536, \"Urano\": 51118, \"Plutón\": 2376.6}\n",
        "for x in (ssDiametro):\n",
        "  print(f\"El planeta {x} tiene un diámetro de {ssDiametro[x]} km.\")\n",
        "print()\n",
        "\n",
        "print(\"\\033[1mOrdenado alfabético ascendente:\\033[0m\")\n",
        "for x in sorted(ssDiametro):\n",
        "  print(f\"El planeta {x} tiene un diámetro de {ssDiametro[x]} km.\")\n",
        "print()\n",
        "\n",
        "print(\"\\033[1mOrdenado alfabético descendente:\\033[0m\")\n",
        "for x in sorted(ssDiametro, reverse=True):\n",
        "  print(f\"El planeta {x} tiene un diámetro de {ssDiametro[x]} km.\")\n",
        "print()"
      ]
    },
    {
      "cell_type": "code",
      "source": [
        "# prompt: resaltar un texto\n",
        "\n",
        "print(\"**Ordenado por proximidad al Sol:**\")\n",
        "ssDiametro = {\"Sol\": 1392000, \"Mercurio\": 4879, \"Venus\": 12092, \"Tierra\": 12756, \"Marte\": 6779, \"Júpiter\": 142984, \"Saturno\": 120536, \"Urano\": 51118, \"Plutón\": 2376.6}\n",
        "for x in (ssDiametro):\n",
        "  print(f\"El planeta {x} tiene un diámetro de {ssDiametro[x]} km.\")\n",
        "print()\n",
        "\n",
        "print(\"**Ordenado alfabético ascendente:**\")\n",
        "for x in sorted(ssDiametro):\n",
        "  print(f\"El planeta {x} tiene un diámetro de {ssDiametro[x]} km.\")\n",
        "\n",
        "print(\"**Ordenado alfabético descendente:**\")\n",
        "for x in sorted(ssDiametro, reverse=True):\n",
        "  print(f\"El planeta {x} tiene un diámetro de {ssDiametro[x]} km.\")\n"
      ],
      "metadata": {
        "colab": {
          "base_uri": "https://localhost:8080/"
        },
        "id": "6rTBwUaZg9IO",
        "outputId": "75ab829f-eea0-46fc-f7d2-4cad350c084b"
      },
      "execution_count": null,
      "outputs": [
        {
          "output_type": "stream",
          "name": "stdout",
          "text": [
            "**Ordenado por proximidad al Sol:**\n",
            "El planeta **Sol** tiene un diámetro de 1392000 km.\n",
            "El planeta **Mercurio** tiene un diámetro de 4879 km.\n",
            "El planeta **Venus** tiene un diámetro de 12092 km.\n",
            "El planeta **Tierra** tiene un diámetro de 12756 km.\n",
            "El planeta **Marte** tiene un diámetro de 6779 km.\n",
            "El planeta **Júpiter** tiene un diámetro de 142984 km.\n",
            "El planeta **Saturno** tiene un diámetro de 120536 km.\n",
            "El planeta **Urano** tiene un diámetro de 51118 km.\n",
            "El planeta **Plutón** tiene un diámetro de 2376.6 km.\n",
            "\n",
            "**Ordenado alfabético ascendente:**\n",
            "El planeta **Júpiter** tiene un diámetro de 142984 km.\n",
            "El planeta **Marte** tiene un diámetro de 6779 km.\n",
            "El planeta **Mercurio** tiene un diámetro de 4879 km.\n",
            "El planeta **Plutón** tiene un diámetro de 2376.6 km.\n",
            "El planeta **Saturno** tiene un diámetro de 120536 km.\n",
            "El planeta **Sol** tiene un diámetro de 1392000 km.\n",
            "El planeta **Tierra** tiene un diámetro de 12756 km.\n",
            "El planeta **Urano** tiene un diámetro de 51118 km.\n",
            "El planeta **Venus** tiene un diámetro de 12092 km.\n",
            "**Ordenado alfabético descendente:**\n",
            "El planeta **Venus** tiene un diámetro de 12092 km.\n",
            "El planeta **Urano** tiene un diámetro de 51118 km.\n",
            "El planeta **Tierra** tiene un diámetro de 12756 km.\n",
            "El planeta **Sol** tiene un diámetro de 1392000 km.\n",
            "El planeta **Saturno** tiene un diámetro de 120536 km.\n",
            "El planeta **Plutón** tiene un diámetro de 2376.6 km.\n",
            "El planeta **Mercurio** tiene un diámetro de 4879 km.\n",
            "El planeta **Marte** tiene un diámetro de 6779 km.\n",
            "El planeta **Júpiter** tiene un diámetro de 142984 km.\n"
          ]
        }
      ]
    }
  ]
}