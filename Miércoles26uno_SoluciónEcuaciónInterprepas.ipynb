{
  "nbformat": 4,
  "nbformat_minor": 0,
  "metadata": {
    "colab": {
      "provenance": [],
      "authorship_tag": "ABX9TyPUNufEsE8ereklCIXRo74b",
      "include_colab_link": true
    },
    "kernelspec": {
      "name": "python3",
      "display_name": "Python 3"
    },
    "language_info": {
      "name": "python"
    }
  },
  "cells": [
    {
      "cell_type": "markdown",
      "metadata": {
        "id": "view-in-github",
        "colab_type": "text"
      },
      "source": [
        "<a href=\"https://colab.research.google.com/github/marioespinosa-sys/MatBach_Python/blob/main/Mi%C3%A9rcoles26uno_Soluci%C3%B3nEcuaci%C3%B3nInterprepas.ipynb\" target=\"_parent\"><img src=\"https://colab.research.google.com/assets/colab-badge.svg\" alt=\"Open In Colab\"/></a>"
      ]
    },
    {
      "cell_type": "code",
      "execution_count": null,
      "metadata": {
        "colab": {
          "base_uri": "https://localhost:8080/",
          "height": 37
        },
        "id": "SHdhQ4iMTt3L",
        "outputId": "98c0c1ca-4ee5-4f7f-a4e8-6d369c20b7b3"
      },
      "outputs": [
        {
          "output_type": "execute_result",
          "data": {
            "text/plain": [
              "1"
            ],
            "text/latex": "$\\displaystyle 1$"
          },
          "metadata": {},
          "execution_count": 3
        }
      ],
      "source": [
        "# Obtener el límite de una función en Python\n",
        "\n",
        "from sympy import symbols, limit, sin\n",
        "x = symbols('x')\n",
        "limit(sin(x)/x, x, 0)\n"
      ]
    },
    {
      "cell_type": "code",
      "source": [
        "# Obtener la derivada de una función (diff)\n",
        "from sympy import symbols, diff, sin\n",
        "x = symbols('x')\n",
        "diff(sin(x)/x, x)"
      ],
      "metadata": {
        "colab": {
          "base_uri": "https://localhost:8080/",
          "height": 53
        },
        "id": "Giybqs3nX1qI",
        "outputId": "9db9332c-8b4c-43cb-ed5c-42c44d46efc9"
      },
      "execution_count": null,
      "outputs": [
        {
          "output_type": "execute_result",
          "data": {
            "text/plain": [
              "cos(x)/x - sin(x)/x**2"
            ],
            "text/latex": "$\\displaystyle \\frac{\\cos{\\left(x \\right)}}{x} - \\frac{\\sin{\\left(x \\right)}}{x^{2}}$"
          },
          "metadata": {},
          "execution_count": 6
        }
      ]
    },
    {
      "cell_type": "code",
      "source": [
        "# para evaluar la derivada en un punto (subs=sustituir)\n",
        "from sympy import symbols, diff, sin\n",
        "x = symbols('x')\n",
        "dx = diff(sin(x)/x, x)\n",
        "dx.subs(x, 4)"
      ],
      "metadata": {
        "colab": {
          "base_uri": "https://localhost:8080/",
          "height": 53
        },
        "id": "vijiYCa-aGWm",
        "outputId": "7247474c-83e9-4a4d-fc0f-5df14b896da1"
      },
      "execution_count": null,
      "outputs": [
        {
          "output_type": "execute_result",
          "data": {
            "text/plain": [
              "cos(4)/4 - sin(4)/16"
            ],
            "text/latex": "$\\displaystyle \\frac{\\cos{\\left(4 \\right)}}{4} - \\frac{\\sin{\\left(4 \\right)}}{16}$"
          },
          "metadata": {},
          "execution_count": 12
        }
      ]
    },
    {
      "cell_type": "code",
      "source": [
        "# para evaluar la derivada en un punto y (evalf()=evalúa la función)\n",
        "from sympy import symbols, diff, sin\n",
        "x = symbols('x')\n",
        "dx = diff(sin(x)/x, x)\n",
        "dx.subs(x, 4).evalf()"
      ],
      "metadata": {
        "colab": {
          "base_uri": "https://localhost:8080/",
          "height": 37
        },
        "id": "K71265IvZNnG",
        "outputId": "a5e85ec2-09e1-4a5e-e26e-0e060ca71ddd"
      },
      "execution_count": null,
      "outputs": [
        {
          "output_type": "execute_result",
          "data": {
            "text/plain": [
              "-0.116110749259157"
            ],
            "text/latex": "$\\displaystyle -0.116110749259157$"
          },
          "metadata": {},
          "execution_count": 13
        }
      ]
    },
    {
      "cell_type": "code",
      "source": [
        "# derivada de la función ln...\n",
        "from sympy import symbols, diff, sin, ln, exp\n",
        "x = symbols('x')\n",
        "diff(ln(4**(7*x**2)/(5*exp(3*x**5))), x)\n"
      ],
      "metadata": {
        "colab": {
          "base_uri": "https://localhost:8080/",
          "height": 68
        },
        "id": "Ai8z31ykaqIu",
        "outputId": "52589a31-7438-402d-d2a2-f3d455952d54"
      },
      "execution_count": null,
      "outputs": [
        {
          "output_type": "execute_result",
          "data": {
            "text/plain": [
              "5*(-3*4**(7*x**2)*x**4*exp(-3*x**5) + 14*4**(7*x**2)*x*exp(-3*x**5)*log(4)/5)*exp(3*x**5)/4**(7*x**2)"
            ],
            "text/latex": "$\\displaystyle 5 \\cdot 4^{- 7 x^{2}} \\left(- 3 \\cdot 4^{7 x^{2}} x^{4} e^{- 3 x^{5}} + \\frac{14 \\cdot 4^{7 x^{2}} x e^{- 3 x^{5}} \\log{\\left(4 \\right)}}{5}\\right) e^{3 x^{5}}$"
          },
          "metadata": {},
          "execution_count": 32
        }
      ]
    },
    {
      "cell_type": "code",
      "source": [
        "# la expresión anterior, expresada como ecuación e igualada a 1\n",
        "\n",
        "from sympy import symbols, diff, sin, ln, exp, nsolve\n",
        "from sympy.plotting import plot\n",
        "x = symbols('x')\n",
        "y = 1\n",
        "nsolve(ln(4**(7*x**2)/(5*exp(3*x**5)))-1, x, 0)\n",
        "print(nsolve(ln(4**(7*x**2)/(5*exp(3*x**5)))-1, x, 0))\n",
        "# fue necesario agregar nsolve e igualar a cero\n",
        "\n",
        "plot(ln(4**(7*x**2)/(5*exp(3*x**5))), x, y,  (x, -1, 1))\n",
        "# se comprueba la solución de forma gráfica cuando y = 1 x = 0.53..."
      ],
      "metadata": {
        "colab": {
          "base_uri": "https://localhost:8080/",
          "height": 521
        },
        "id": "DnLfMoA8enSR",
        "outputId": "c2037309-1640-40f9-e429-e371435bb408"
      },
      "execution_count": null,
      "outputs": [
        {
          "output_type": "stream",
          "name": "stdout",
          "text": [
            "0.530991001641216\n"
          ]
        },
        {
          "output_type": "display_data",
          "data": {
            "text/plain": [
              "<Figure size 640x480 with 1 Axes>"
            ],
            "image/png": "[encoded data removed]"
          },
          "metadata": {}
        },
        {
          "output_type": "execute_result",
          "data": {
            "text/plain": [
              "<sympy.plotting.plot.Plot at 0x7a02dce10b80>"
            ]
          },
          "metadata": {},
          "execution_count": 67
        }
      ]
    }
  ]
}