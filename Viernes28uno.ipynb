{
  "nbformat": 4,
  "nbformat_minor": 0,
  "metadata": {
    "colab": {
      "provenance": [],
      "authorship_tag": "ABX9TyNf1SMRq9LbqEc/zxeMCdHK",
      "include_colab_link": true
    },
    "kernelspec": {
      "name": "python3",
      "display_name": "Python 3"
    },
    "language_info": {
      "name": "python"
    }
  },
  "cells": [
    {
      "cell_type": "markdown",
      "metadata": {
        "id": "view-in-github",
        "colab_type": "text"
      },
      "source": [
        "<a href=\"https://colab.research.google.com/github/marioespinosa-sys/MatBach_Python/blob/main/Viernes28uno.ipynb\" target=\"_parent\"><img src=\"https://colab.research.google.com/assets/colab-badge.svg\" alt=\"Open In Colab\"/></a>"
      ]
    },
    {
      "cell_type": "code",
      "execution_count": null,
      "metadata": {
        "colab": {
          "base_uri": "https://localhost:8080/"
        },
        "id": "Vp3DZvb3qpeg",
        "outputId": "d876717b-d295-4f5c-caee-005f7bb17c71"
      },
      "outputs": [
        {
          "output_type": "stream",
          "name": "stdout",
          "text": [
            "    0    1     2\n",
            "0   1  1.3   0.6\n",
            "1   2  2.1   0.7\n",
            "2   3  4.8   0.8\n",
            "3   4  3.3   0.9\n",
            "4  56  3.3  21.0\n",
            "     0      1      2\n",
            "2    3    4.8    0.8\n",
            "3    4    3.3    0.9\n",
            "4   56    3.3   21.0\n",
            "5  333  555.0  666.0\n",
            "6   54   67.0   78.0\n"
          ]
        }
      ],
      "source": [
        "from google.colab import auth\n",
        "from pydrive.drive import GoogleDrive\n",
        "from pydrive.auth import GoogleAuth\n",
        "from oauth2client.client import GoogleCredentials\n",
        "\n",
        "auth.authenticate_user()\n",
        "gauth = GoogleAuth()\n",
        "gauth.credentials = GoogleCredentials.get_application_default()\n",
        "drive= GoogleDrive(gauth)\n",
        "\n",
        "# El ID es el número que aparece al compartir el archivo\n",
        "myfile = drive.CreateFile({'id': '1rNlA6odqMfMvJxzwiEkxpg8hOZBs3ERa'})\n",
        "myfile.GetContentFile('datos1.txt')\n",
        "\n",
        "import pandas as pd\n",
        "frm = pd.read_csv('datos1.txt', header=None)\n",
        "print(frm.head())\n",
        "print(frm.tail())"
      ]
    },
    {
      "cell_type": "code",
      "source": [
        "import numpy as np\n",
        "datosF = np.loadtxt('datos1.txt', delimiter = \",\")\n",
        "print(datosF)\n",
        "\n",
        "print(datosF[:,0])"
      ],
      "metadata": {
        "colab": {
          "base_uri": "https://localhost:8080/"
        },
        "id": "VuZf_IBX8F3C",
        "outputId": "367a58c4-8208-44b8-d427-2f5e10620d5b"
      },
      "execution_count": null,
      "outputs": [
        {
          "output_type": "stream",
          "name": "stdout",
          "text": [
            "[[1.00e+00 1.30e+00 6.00e-01]\n",
            " [2.00e+00 2.10e+00 7.00e-01]\n",
            " [3.00e+00 4.80e+00 8.00e-01]\n",
            " [4.00e+00 3.30e+00 9.00e-01]\n",
            " [5.60e+01 3.30e+00 2.10e+01]\n",
            " [3.33e+02 5.55e+02 6.66e+02]\n",
            " [5.40e+01 6.70e+01 7.80e+01]]\n",
            "[  1.   2.   3.   4.  56. 333.  54.]\n"
          ]
        }
      ]
    }
  ]
}